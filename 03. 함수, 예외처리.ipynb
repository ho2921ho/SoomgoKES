{
 "cells": [
  {
   "cell_type": "markdown",
   "id": "7e6a7cdd",
   "metadata": {},
   "source": [
    "## 함수를 사용하는 이유?\n",
    "#### 반복된 코드 사용을 줄일 수 있다.\n",
    "#### 코드의 가독성을 높혀, 오류 수정 및 프로그램 흐름 파악에 도움이 된다."
   ]
  },
  {
   "cell_type": "markdown",
   "id": "8ba07ff9",
   "metadata": {},
   "source": [
    "#### 함수의 구조"
   ]
  },
  {
   "cell_type": "code",
   "execution_count": 1,
   "id": "5a8ae4e2",
   "metadata": {},
   "outputs": [],
   "source": [
    "def myadd(x1, x2): \n",
    "    return x1 + x2"
   ]
  },
  {
   "cell_type": "code",
   "execution_count": 2,
   "id": "c92904cc",
   "metadata": {},
   "outputs": [],
   "source": [
    "def 함수명(매개변수1, 매개변수2):\n",
    "    return 매개변수1 + 매개변수2"
   ]
  },
  {
   "cell_type": "code",
   "execution_count": 3,
   "id": "3f61ed18",
   "metadata": {},
   "outputs": [
    {
     "name": "stdout",
     "output_type": "stream",
     "text": [
      "3 4\n"
     ]
    }
   ],
   "source": [
    "a = 3\n",
    "b = 4\n",
    "c = myadd(a, b)  # add(3, 4)의 리턴값을 c에 대입\n",
    "print(a,b)"
   ]
  },
  {
   "cell_type": "markdown",
   "id": "17e72bfa",
   "metadata": {},
   "source": [
    "####  함수 활용 예시"
   ]
  },
  {
   "cell_type": "markdown",
   "id": "6075143e",
   "metadata": {},
   "source": [
    "#### 반환값이 없는 구조"
   ]
  },
  {
   "cell_type": "code",
   "execution_count": 4,
   "id": "d0f7342f",
   "metadata": {},
   "outputs": [],
   "source": [
    "def add(a, b): \n",
    "    print(\"{}, {}의 합은 {}입니다.\".format(a, b, a+b))"
   ]
  },
  {
   "cell_type": "code",
   "execution_count": 5,
   "id": "ee1109f1",
   "metadata": {
    "scrolled": true
   },
   "outputs": [
    {
     "name": "stdout",
     "output_type": "stream",
     "text": [
      "3, 4의 합은 7입니다.\n"
     ]
    }
   ],
   "source": [
    "add(3, 4)"
   ]
  },
  {
   "cell_type": "markdown",
   "id": "5a645310",
   "metadata": {},
   "source": [
    "#### 반환값과 매개변수 없는 구조"
   ]
  },
  {
   "cell_type": "code",
   "execution_count": null,
   "id": "092f256e",
   "metadata": {},
   "outputs": [],
   "source": [
    "def say(): \n",
    "    print('Hi')"
   ]
  },
  {
   "cell_type": "code",
   "execution_count": null,
   "id": "2398848d",
   "metadata": {},
   "outputs": [],
   "source": [
    "say()"
   ]
  },
  {
   "cell_type": "markdown",
   "id": "b2869566",
   "metadata": {},
   "source": [
    "#### 매개변수에 초기값을 정해놓은 구조"
   ]
  },
  {
   "cell_type": "code",
   "execution_count": 6,
   "id": "9fa7237e",
   "metadata": {},
   "outputs": [],
   "source": [
    "def say_myself(name, age, man=True): \n",
    "    print(\"나의 이름은 {} 입니다\".format(name)) \n",
    "    print(\"나이는 {} 입니다.\".format(age)) \n",
    "    if man: \n",
    "        print(\"남자입니다.\")\n",
    "    else: \n",
    "        print(\"여자입니다.\")"
   ]
  },
  {
   "cell_type": "code",
   "execution_count": 7,
   "id": "c421bd99",
   "metadata": {},
   "outputs": [
    {
     "name": "stdout",
     "output_type": "stream",
     "text": [
      "나의 이름은 박응용 입니다\n",
      "나이는 27 입니다.\n",
      "남자입니다.\n"
     ]
    }
   ],
   "source": [
    "say_myself(\"박응용\", 27)"
   ]
  },
  {
   "cell_type": "code",
   "execution_count": null,
   "id": "5b9b7fd2",
   "metadata": {
    "scrolled": true
   },
   "outputs": [],
   "source": [
    "say_myself(\"박응선\", 27, False)"
   ]
  },
  {
   "cell_type": "markdown",
   "id": "651cea0f",
   "metadata": {},
   "source": [
    "#### 예외처리"
   ]
  },
  {
   "cell_type": "code",
   "execution_count": 8,
   "id": "d2948513",
   "metadata": {},
   "outputs": [
    {
     "name": "stdout",
     "output_type": "stream",
     "text": [
      "3\n",
      "4\n"
     ]
    },
    {
     "ename": "TypeError",
     "evalue": "can only concatenate str (not \"int\") to str",
     "output_type": "error",
     "traceback": [
      "\u001b[1;31m---------------------------------------------------------------------------\u001b[0m",
      "\u001b[1;31mTypeError\u001b[0m                                 Traceback (most recent call last)",
      "\u001b[1;32m<ipython-input-8-cd3cd80c68ed>\u001b[0m in \u001b[0;36m<module>\u001b[1;34m\u001b[0m\n\u001b[0;32m      2\u001b[0m \u001b[1;33m\u001b[0m\u001b[0m\n\u001b[0;32m      3\u001b[0m \u001b[1;32mfor\u001b[0m \u001b[0mi\u001b[0m \u001b[1;32min\u001b[0m \u001b[0mmy_list\u001b[0m\u001b[1;33m:\u001b[0m\u001b[1;33m\u001b[0m\u001b[1;33m\u001b[0m\u001b[0m\n\u001b[1;32m----> 4\u001b[1;33m     \u001b[0mresult\u001b[0m \u001b[1;33m=\u001b[0m \u001b[0mi\u001b[0m \u001b[1;33m+\u001b[0m \u001b[1;36m2\u001b[0m\u001b[1;33m\u001b[0m\u001b[1;33m\u001b[0m\u001b[0m\n\u001b[0m\u001b[0;32m      5\u001b[0m     \u001b[0mprint\u001b[0m\u001b[1;33m(\u001b[0m\u001b[0mresult\u001b[0m\u001b[1;33m)\u001b[0m\u001b[1;33m\u001b[0m\u001b[1;33m\u001b[0m\u001b[0m\n",
      "\u001b[1;31mTypeError\u001b[0m: can only concatenate str (not \"int\") to str"
     ]
    }
   ],
   "source": [
    "my_list = [1,2,'a',4,'c']\n",
    "\n",
    "for i in my_list:\n",
    "    result = i + 2\n",
    "    print(result)"
   ]
  },
  {
   "cell_type": "code",
   "execution_count": 9,
   "id": "de4532b4",
   "metadata": {},
   "outputs": [
    {
     "name": "stdout",
     "output_type": "stream",
     "text": [
      "3\n",
      "4\n",
      "a\n",
      "6\n",
      "c\n"
     ]
    }
   ],
   "source": [
    "my_list = [1,2,'a',4,'c']\n",
    "\n",
    "for i in my_list:\n",
    "    try:\n",
    "        result = i + 2\n",
    "        print(result)\n",
    "    except:\n",
    "        print(i)\n",
    "        "
   ]
  }
 ],
 "metadata": {
  "kernelspec": {
   "display_name": "Python 3",
   "language": "python",
   "name": "python3"
  },
  "language_info": {
   "codemirror_mode": {
    "name": "ipython",
    "version": 3
   },
   "file_extension": ".py",
   "mimetype": "text/x-python",
   "name": "python",
   "nbconvert_exporter": "python",
   "pygments_lexer": "ipython3",
   "version": "3.9.13"
  }
 },
 "nbformat": 4,
 "nbformat_minor": 5
}
