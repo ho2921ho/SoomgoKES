{
 "cells": [
  {
   "cell_type": "markdown",
   "id": "42c86ad5",
   "metadata": {},
   "source": [
    "### chemcalc API와 실제데이터를 활용해 가능한 분자 구조를 찾아보고 자동으로 그려보쟈!"
   ]
  },
  {
   "cell_type": "markdown",
   "id": "cef1709d",
   "metadata": {},
   "source": [
    "#### 1. pandas를 활용해 데이터를 불러오고 전처리"
   ]
  },
  {
   "cell_type": "code",
   "execution_count": 3,
   "id": "d0511f73",
   "metadata": {},
   "outputs": [],
   "source": [
    "import pandas as pd"
   ]
  },
  {
   "cell_type": "code",
   "execution_count": 4,
   "id": "24c293a1",
   "metadata": {},
   "outputs": [],
   "source": [
    "df = pd.read_excel('data/Example 1.xlsx',index_col = False)"
   ]
  },
  {
   "cell_type": "code",
   "execution_count": 5,
   "id": "3a7a4702",
   "metadata": {
    "scrolled": true
   },
   "outputs": [
    {
     "data": {
      "text/html": [
       "<div>\n",
       "<style scoped>\n",
       "    .dataframe tbody tr th:only-of-type {\n",
       "        vertical-align: middle;\n",
       "    }\n",
       "\n",
       "    .dataframe tbody tr th {\n",
       "        vertical-align: top;\n",
       "    }\n",
       "\n",
       "    .dataframe thead th {\n",
       "        text-align: right;\n",
       "    }\n",
       "</style>\n",
       "<table border=\"1\" class=\"dataframe\">\n",
       "  <thead>\n",
       "    <tr style=\"text-align: right;\">\n",
       "      <th></th>\n",
       "      <th>1</th>\n",
       "      <th>85.0281</th>\n",
       "      <th>15505</th>\n",
       "      <th>92.6</th>\n",
       "      <th>3588</th>\n",
       "      <th>1.7</th>\n",
       "      <th>0.0055</th>\n",
       "      <th>Unnamed: 7</th>\n",
       "      <th>Unnamed: 8</th>\n",
       "      <th>Unnamed: 9</th>\n",
       "      <th>Unnamed: 10</th>\n",
       "      <th>Unnamed: 11</th>\n",
       "      <th>Unnamed: 12</th>\n",
       "      <th>Unnamed: 13</th>\n",
       "      <th>Unnamed: 14</th>\n",
       "      <th>Unnamed: 15</th>\n",
       "    </tr>\n",
       "  </thead>\n",
       "  <tbody>\n",
       "    <tr>\n",
       "      <th>0</th>\n",
       "      <td>2</td>\n",
       "      <td>85.1014</td>\n",
       "      <td>16848</td>\n",
       "      <td>16.6</td>\n",
       "      <td>643</td>\n",
       "      <td>0.3</td>\n",
       "      <td>0.0051</td>\n",
       "      <td>NaN</td>\n",
       "      <td>NaN</td>\n",
       "      <td>NaN</td>\n",
       "      <td>NaN</td>\n",
       "      <td>NaN</td>\n",
       "      <td>NaN</td>\n",
       "      <td>NaN</td>\n",
       "      <td>NaN</td>\n",
       "      <td>NaN</td>\n",
       "    </tr>\n",
       "    <tr>\n",
       "      <th>1</th>\n",
       "      <td>3</td>\n",
       "      <td>86.0599</td>\n",
       "      <td>15149</td>\n",
       "      <td>19.4</td>\n",
       "      <td>753</td>\n",
       "      <td>0.4</td>\n",
       "      <td>0.0057</td>\n",
       "      <td>NaN</td>\n",
       "      <td>NaN</td>\n",
       "      <td>NaN</td>\n",
       "      <td>NaN</td>\n",
       "      <td>NaN</td>\n",
       "      <td>NaN</td>\n",
       "      <td>NaN</td>\n",
       "      <td>NaN</td>\n",
       "      <td>NaN</td>\n",
       "    </tr>\n",
       "    <tr>\n",
       "      <th>2</th>\n",
       "      <td>4</td>\n",
       "      <td>87.0438</td>\n",
       "      <td>18891</td>\n",
       "      <td>17</td>\n",
       "      <td>663</td>\n",
       "      <td>0.3</td>\n",
       "      <td>0.0046</td>\n",
       "      <td>NaN</td>\n",
       "      <td>NaN</td>\n",
       "      <td>NaN</td>\n",
       "      <td>NaN</td>\n",
       "      <td>NaN</td>\n",
       "      <td>NaN</td>\n",
       "      <td>NaN</td>\n",
       "      <td>NaN</td>\n",
       "      <td>NaN</td>\n",
       "    </tr>\n",
       "    <tr>\n",
       "      <th>3</th>\n",
       "      <td>5</td>\n",
       "      <td>88.0755</td>\n",
       "      <td>15455</td>\n",
       "      <td>55.3</td>\n",
       "      <td>2156</td>\n",
       "      <td>1.1</td>\n",
       "      <td>0.0057</td>\n",
       "      <td>NaN</td>\n",
       "      <td>NaN</td>\n",
       "      <td>NaN</td>\n",
       "      <td>NaN</td>\n",
       "      <td>NaN</td>\n",
       "      <td>NaN</td>\n",
       "      <td>NaN</td>\n",
       "      <td>NaN</td>\n",
       "      <td>NaN</td>\n",
       "    </tr>\n",
       "    <tr>\n",
       "      <th>4</th>\n",
       "      <td>6</td>\n",
       "      <td>89.0593</td>\n",
       "      <td>17062</td>\n",
       "      <td>5.5</td>\n",
       "      <td>215</td>\n",
       "      <td>0.1</td>\n",
       "      <td>0.0052</td>\n",
       "      <td>NaN</td>\n",
       "      <td>NaN</td>\n",
       "      <td>NaN</td>\n",
       "      <td>NaN</td>\n",
       "      <td>NaN</td>\n",
       "      <td>NaN</td>\n",
       "      <td>NaN</td>\n",
       "      <td>NaN</td>\n",
       "      <td>NaN</td>\n",
       "    </tr>\n",
       "    <tr>\n",
       "      <th>...</th>\n",
       "      <td>...</td>\n",
       "      <td>...</td>\n",
       "      <td>...</td>\n",
       "      <td>...</td>\n",
       "      <td>...</td>\n",
       "      <td>...</td>\n",
       "      <td>...</td>\n",
       "      <td>...</td>\n",
       "      <td>...</td>\n",
       "      <td>...</td>\n",
       "      <td>...</td>\n",
       "      <td>...</td>\n",
       "      <td>...</td>\n",
       "      <td>...</td>\n",
       "      <td>...</td>\n",
       "      <td>...</td>\n",
       "    </tr>\n",
       "    <tr>\n",
       "      <th>2656</th>\n",
       "      <td>2654</td>\n",
       "      <td>1001.8604</td>\n",
       "      <td>15828</td>\n",
       "      <td>1.8</td>\n",
       "      <td>227</td>\n",
       "      <td>0.1</td>\n",
       "      <td>0.0633</td>\n",
       "      <td>NaN</td>\n",
       "      <td>NaN</td>\n",
       "      <td>NaN</td>\n",
       "      <td>NaN</td>\n",
       "      <td>NaN</td>\n",
       "      <td>NaN</td>\n",
       "      <td>NaN</td>\n",
       "      <td>NaN</td>\n",
       "      <td>NaN</td>\n",
       "    </tr>\n",
       "    <tr>\n",
       "      <th>2657</th>\n",
       "      <td>2655</td>\n",
       "      <td>1002.8672</td>\n",
       "      <td>16946</td>\n",
       "      <td>2.5</td>\n",
       "      <td>310</td>\n",
       "      <td>0.2</td>\n",
       "      <td>0.0592</td>\n",
       "      <td>NaN</td>\n",
       "      <td>NaN</td>\n",
       "      <td>NaN</td>\n",
       "      <td>NaN</td>\n",
       "      <td>NaN</td>\n",
       "      <td>NaN</td>\n",
       "      <td>NaN</td>\n",
       "      <td>NaN</td>\n",
       "      <td>NaN</td>\n",
       "    </tr>\n",
       "    <tr>\n",
       "      <th>2658</th>\n",
       "      <td>2656</td>\n",
       "      <td>1003.8993</td>\n",
       "      <td>16053</td>\n",
       "      <td>2.3</td>\n",
       "      <td>290</td>\n",
       "      <td>0.1</td>\n",
       "      <td>0.0625</td>\n",
       "      <td>NaN</td>\n",
       "      <td>NaN</td>\n",
       "      <td>NaN</td>\n",
       "      <td>NaN</td>\n",
       "      <td>NaN</td>\n",
       "      <td>NaN</td>\n",
       "      <td>NaN</td>\n",
       "      <td>NaN</td>\n",
       "      <td>NaN</td>\n",
       "    </tr>\n",
       "    <tr>\n",
       "      <th>2659</th>\n",
       "      <td>691</td>\n",
       "      <td>354.1386+'[Sorting_0529_Fe Complexes .xlsx]#4 ...</td>\n",
       "      <td>12797</td>\n",
       "      <td>27.1</td>\n",
       "      <td>2249</td>\n",
       "      <td>1.1</td>\n",
       "      <td>0.0277</td>\n",
       "      <td>NaN</td>\n",
       "      <td>NaN</td>\n",
       "      <td>NaN</td>\n",
       "      <td>NaN</td>\n",
       "      <td>NaN</td>\n",
       "      <td>NaN</td>\n",
       "      <td>NaN</td>\n",
       "      <td>NaN</td>\n",
       "      <td>NaN</td>\n",
       "    </tr>\n",
       "    <tr>\n",
       "      <th>2660</th>\n",
       "      <td>#</td>\n",
       "      <td>m/z</td>\n",
       "      <td>Res.</td>\n",
       "      <td>S/N</td>\n",
       "      <td>I</td>\n",
       "      <td>I %</td>\n",
       "      <td>FWHM</td>\n",
       "      <td>NaN</td>\n",
       "      <td>NaN</td>\n",
       "      <td>NaN</td>\n",
       "      <td>NaN</td>\n",
       "      <td>NaN</td>\n",
       "      <td>NaN</td>\n",
       "      <td>NaN</td>\n",
       "      <td>NaN</td>\n",
       "      <td>NaN</td>\n",
       "    </tr>\n",
       "  </tbody>\n",
       "</table>\n",
       "<p>2661 rows × 16 columns</p>\n",
       "</div>"
      ],
      "text/plain": [
       "         1                                            85.0281  15505  92.6  \\\n",
       "0        2                                            85.1014  16848  16.6   \n",
       "1        3                                            86.0599  15149  19.4   \n",
       "2        4                                            87.0438  18891    17   \n",
       "3        5                                            88.0755  15455  55.3   \n",
       "4        6                                            89.0593  17062   5.5   \n",
       "...    ...                                                ...    ...   ...   \n",
       "2656  2654                                          1001.8604  15828   1.8   \n",
       "2657  2655                                          1002.8672  16946   2.5   \n",
       "2658  2656                                          1003.8993  16053   2.3   \n",
       "2659   691  354.1386+'[Sorting_0529_Fe Complexes .xlsx]#4 ...  12797  27.1   \n",
       "2660     #                                                m/z   Res.   S/N   \n",
       "\n",
       "      3588  1.7  0.0055  Unnamed: 7  Unnamed: 8  Unnamed: 9  Unnamed: 10  \\\n",
       "0      643  0.3  0.0051         NaN         NaN         NaN          NaN   \n",
       "1      753  0.4  0.0057         NaN         NaN         NaN          NaN   \n",
       "2      663  0.3  0.0046         NaN         NaN         NaN          NaN   \n",
       "3     2156  1.1  0.0057         NaN         NaN         NaN          NaN   \n",
       "4      215  0.1  0.0052         NaN         NaN         NaN          NaN   \n",
       "...    ...  ...     ...         ...         ...         ...          ...   \n",
       "2656   227  0.1  0.0633         NaN         NaN         NaN          NaN   \n",
       "2657   310  0.2  0.0592         NaN         NaN         NaN          NaN   \n",
       "2658   290  0.1  0.0625         NaN         NaN         NaN          NaN   \n",
       "2659  2249  1.1  0.0277         NaN         NaN         NaN          NaN   \n",
       "2660     I  I %    FWHM         NaN         NaN         NaN          NaN   \n",
       "\n",
       "     Unnamed: 11  Unnamed: 12  Unnamed: 13  Unnamed: 14  Unnamed: 15  \n",
       "0            NaN          NaN          NaN          NaN          NaN  \n",
       "1            NaN          NaN          NaN          NaN          NaN  \n",
       "2            NaN          NaN          NaN          NaN          NaN  \n",
       "3            NaN          NaN          NaN          NaN          NaN  \n",
       "4            NaN          NaN          NaN          NaN          NaN  \n",
       "...          ...          ...          ...          ...          ...  \n",
       "2656         NaN          NaN          NaN          NaN          NaN  \n",
       "2657         NaN          NaN          NaN          NaN          NaN  \n",
       "2658         NaN          NaN          NaN          NaN          NaN  \n",
       "2659         NaN          NaN          NaN          NaN          NaN  \n",
       "2660         NaN          NaN          NaN          NaN          NaN  \n",
       "\n",
       "[2661 rows x 16 columns]"
      ]
     },
     "execution_count": 5,
     "metadata": {},
     "output_type": "execute_result"
    }
   ],
   "source": [
    "df"
   ]
  },
  {
   "cell_type": "code",
   "execution_count": 6,
   "id": "e648d59c",
   "metadata": {},
   "outputs": [],
   "source": [
    "df = df.iloc[:,1:7]"
   ]
  },
  {
   "cell_type": "code",
   "execution_count": 7,
   "id": "2122324e",
   "metadata": {},
   "outputs": [],
   "source": [
    "df = df.dropna()"
   ]
  },
  {
   "cell_type": "code",
   "execution_count": 8,
   "id": "05c75d17",
   "metadata": {},
   "outputs": [],
   "source": [
    "df.columns = ['var1','var2','var3','var4','var5','var6']"
   ]
  },
  {
   "cell_type": "code",
   "execution_count": 9,
   "id": "5ee7a066",
   "metadata": {},
   "outputs": [
    {
     "name": "stdout",
     "output_type": "stream",
     "text": [
      "354.1386+'[Sorting_0529_Fe Complexes .xlsx]#4 Ala2+Fe+Glu2'!$B$48:$G$692+'[Sorting_0529_Fe Complexes .xlsx]#4 Ala2+Fe+Glu2'!$B$126:$G$692\n",
      "m/z\n"
     ]
    }
   ],
   "source": [
    "new_var1 = []\n",
    "for i in df.loc[:,'var1']:\n",
    "    try:\n",
    "        i = float(i)\n",
    "        new_var1.append(i)\n",
    "    except:\n",
    "        print(i)\n",
    "        new_var1.append(i)"
   ]
  },
  {
   "cell_type": "code",
   "execution_count": 10,
   "id": "aeffb8af",
   "metadata": {},
   "outputs": [],
   "source": [
    "df['var1'] = new_var1"
   ]
  },
  {
   "cell_type": "code",
   "execution_count": 11,
   "id": "c0188ce0",
   "metadata": {},
   "outputs": [],
   "source": [
    "df = df.iloc[:10,:] # 10개만 test로 해보기"
   ]
  },
  {
   "cell_type": "code",
   "execution_count": 12,
   "id": "52b688b7",
   "metadata": {},
   "outputs": [
    {
     "data": {
      "text/html": [
       "<div>\n",
       "<style scoped>\n",
       "    .dataframe tbody tr th:only-of-type {\n",
       "        vertical-align: middle;\n",
       "    }\n",
       "\n",
       "    .dataframe tbody tr th {\n",
       "        vertical-align: top;\n",
       "    }\n",
       "\n",
       "    .dataframe thead th {\n",
       "        text-align: right;\n",
       "    }\n",
       "</style>\n",
       "<table border=\"1\" class=\"dataframe\">\n",
       "  <thead>\n",
       "    <tr style=\"text-align: right;\">\n",
       "      <th></th>\n",
       "      <th>var1</th>\n",
       "      <th>var2</th>\n",
       "      <th>var3</th>\n",
       "      <th>var4</th>\n",
       "      <th>var5</th>\n",
       "      <th>var6</th>\n",
       "    </tr>\n",
       "  </thead>\n",
       "  <tbody>\n",
       "    <tr>\n",
       "      <th>0</th>\n",
       "      <td>85.1014</td>\n",
       "      <td>16848</td>\n",
       "      <td>16.6</td>\n",
       "      <td>643</td>\n",
       "      <td>0.3</td>\n",
       "      <td>0.0051</td>\n",
       "    </tr>\n",
       "    <tr>\n",
       "      <th>1</th>\n",
       "      <td>86.0599</td>\n",
       "      <td>15149</td>\n",
       "      <td>19.4</td>\n",
       "      <td>753</td>\n",
       "      <td>0.4</td>\n",
       "      <td>0.0057</td>\n",
       "    </tr>\n",
       "    <tr>\n",
       "      <th>2</th>\n",
       "      <td>87.0438</td>\n",
       "      <td>18891</td>\n",
       "      <td>17</td>\n",
       "      <td>663</td>\n",
       "      <td>0.3</td>\n",
       "      <td>0.0046</td>\n",
       "    </tr>\n",
       "    <tr>\n",
       "      <th>3</th>\n",
       "      <td>88.0755</td>\n",
       "      <td>15455</td>\n",
       "      <td>55.3</td>\n",
       "      <td>2156</td>\n",
       "      <td>1.1</td>\n",
       "      <td>0.0057</td>\n",
       "    </tr>\n",
       "    <tr>\n",
       "      <th>4</th>\n",
       "      <td>89.0593</td>\n",
       "      <td>17062</td>\n",
       "      <td>5.5</td>\n",
       "      <td>215</td>\n",
       "      <td>0.1</td>\n",
       "      <td>0.0052</td>\n",
       "    </tr>\n",
       "    <tr>\n",
       "      <th>5</th>\n",
       "      <td>89.9639</td>\n",
       "      <td>16388</td>\n",
       "      <td>25</td>\n",
       "      <td>979</td>\n",
       "      <td>0.5</td>\n",
       "      <td>0.0055</td>\n",
       "    </tr>\n",
       "    <tr>\n",
       "      <th>6</th>\n",
       "      <td>90.055</td>\n",
       "      <td>16786</td>\n",
       "      <td>3077.1</td>\n",
       "      <td>120565</td>\n",
       "      <td>58.7</td>\n",
       "      <td>0.0054</td>\n",
       "    </tr>\n",
       "    <tr>\n",
       "      <th>7</th>\n",
       "      <td>90.0913</td>\n",
       "      <td>16209</td>\n",
       "      <td>6.6</td>\n",
       "      <td>257</td>\n",
       "      <td>0.1</td>\n",
       "      <td>0.0056</td>\n",
       "    </tr>\n",
       "    <tr>\n",
       "      <th>8</th>\n",
       "      <td>91.058</td>\n",
       "      <td>15047</td>\n",
       "      <td>114.3</td>\n",
       "      <td>4490</td>\n",
       "      <td>2.2</td>\n",
       "      <td>0.0061</td>\n",
       "    </tr>\n",
       "    <tr>\n",
       "      <th>9</th>\n",
       "      <td>92.0606</td>\n",
       "      <td>16235</td>\n",
       "      <td>14.8</td>\n",
       "      <td>584</td>\n",
       "      <td>0.3</td>\n",
       "      <td>0.0057</td>\n",
       "    </tr>\n",
       "  </tbody>\n",
       "</table>\n",
       "</div>"
      ],
      "text/plain": [
       "      var1   var2    var3    var4  var5    var6\n",
       "0  85.1014  16848    16.6     643   0.3  0.0051\n",
       "1  86.0599  15149    19.4     753   0.4  0.0057\n",
       "2  87.0438  18891      17     663   0.3  0.0046\n",
       "3  88.0755  15455    55.3    2156   1.1  0.0057\n",
       "4  89.0593  17062     5.5     215   0.1  0.0052\n",
       "5  89.9639  16388      25     979   0.5  0.0055\n",
       "6   90.055  16786  3077.1  120565  58.7  0.0054\n",
       "7  90.0913  16209     6.6     257   0.1  0.0056\n",
       "8   91.058  15047   114.3    4490   2.2  0.0061\n",
       "9  92.0606  16235    14.8     584   0.3  0.0057"
      ]
     },
     "execution_count": 12,
     "metadata": {},
     "output_type": "execute_result"
    }
   ],
   "source": [
    "df"
   ]
  },
  {
   "cell_type": "markdown",
   "id": "a2e8aa57",
   "metadata": {},
   "source": [
    "#### 2. API를 활용해 var1의 물성에서 가능한 분자식를 찾아보자.. 세부설정은 화학지식이 필요"
   ]
  },
  {
   "cell_type": "code",
   "execution_count": 13,
   "id": "291d405a",
   "metadata": {},
   "outputs": [],
   "source": [
    "import urllib\n",
    "import json\n",
    "import requests"
   ]
  },
  {
   "cell_type": "code",
   "execution_count": 14,
   "id": "a715c928",
   "metadata": {},
   "outputs": [],
   "source": [
    "def findMfByMass(mass):\n",
    "    chemcalcURL = 'https://www.chemcalc.org/chemcalc/em'\n",
    "    mfRange = 'C0-100H0-100N0-10O0-10'\n",
    "    options = {'mfRange': mfRange,\n",
    "               'monoisotopicMass': mass,\n",
    "              }\n",
    "\n",
    "    data =  requests.get(chemcalcURL, options).json()\n",
    "    return data"
   ]
  },
  {
   "cell_type": "code",
   "execution_count": 15,
   "id": "56149f93",
   "metadata": {},
   "outputs": [],
   "source": [
    "data = findMfByMass(df['var1'][0])"
   ]
  },
  {
   "cell_type": "code",
   "execution_count": 16,
   "id": "4a3bb1cb",
   "metadata": {},
   "outputs": [],
   "source": [
    "data = pd.DataFrame(data['results'])"
   ]
  },
  {
   "cell_type": "code",
   "execution_count": 17,
   "id": "17ab4d83",
   "metadata": {},
   "outputs": [
    {
     "data": {
      "text/plain": [
       "'C3H3NO2'"
      ]
     },
     "execution_count": 17,
     "metadata": {},
     "output_type": "execute_result"
    }
   ],
   "source": [
    "data = data.sort_values(by = 'error',ascending= True) # 에러가 가장 작은 분자구조를 선택해보쟈\n",
    "data = data.reset_index(drop = True)\n",
    "mf = data.loc[0,['mf']]\n",
    "mf = mf.values[0]\n",
    "mf"
   ]
  },
  {
   "cell_type": "code",
   "execution_count": 18,
   "id": "10f0a4b8",
   "metadata": {},
   "outputs": [
    {
     "data": {
      "text/plain": [
       "array([85.1014, 86.0599, 87.0438, 88.0755, 89.0593, 89.9639, 90.055,\n",
       "       90.0913, 91.058, 92.0606], dtype=object)"
      ]
     },
     "execution_count": 18,
     "metadata": {},
     "output_type": "execute_result"
    }
   ],
   "source": [
    "df['var1'].values"
   ]
  },
  {
   "cell_type": "code",
   "execution_count": 19,
   "id": "2d740a08",
   "metadata": {},
   "outputs": [],
   "source": [
    "mf_list = []\n",
    "for var1 in df['var1'].values:\n",
    "    data = findMfByMass(var1)\n",
    "    data = pd.DataFrame(data['results'])\n",
    "    data = data.sort_values(by = 'error',ascending= True) # 에러가 가장 작은 분자구조를 선택해보쟈\n",
    "    data = data.reset_index(drop = True)\n",
    "    mf = data.loc[0,['mf']]\n",
    "    mf = mf.values[0]\n",
    "    mf_list.append(mf)"
   ]
  },
  {
   "cell_type": "code",
   "execution_count": 20,
   "id": "36a03b5e",
   "metadata": {},
   "outputs": [
    {
     "data": {
      "text/plain": [
       "['C3H3NO2',\n",
       " 'C3H2O3',\n",
       " 'C2HNO3',\n",
       " 'C2O4',\n",
       " 'C2H3NO3',\n",
       " 'C2H2O4',\n",
       " 'C2H2O4',\n",
       " 'C2H2O4',\n",
       " 'CHNO4',\n",
       " 'CO5']"
      ]
     },
     "execution_count": 20,
     "metadata": {},
     "output_type": "execute_result"
    }
   ],
   "source": [
    "mf_list"
   ]
  },
  {
   "cell_type": "code",
   "execution_count": 21,
   "id": "606e83cd",
   "metadata": {},
   "outputs": [],
   "source": [
    "df['mf'] = mf_list"
   ]
  },
  {
   "cell_type": "code",
   "execution_count": 22,
   "id": "cbbf9f7a",
   "metadata": {},
   "outputs": [
    {
     "data": {
      "text/html": [
       "<div>\n",
       "<style scoped>\n",
       "    .dataframe tbody tr th:only-of-type {\n",
       "        vertical-align: middle;\n",
       "    }\n",
       "\n",
       "    .dataframe tbody tr th {\n",
       "        vertical-align: top;\n",
       "    }\n",
       "\n",
       "    .dataframe thead th {\n",
       "        text-align: right;\n",
       "    }\n",
       "</style>\n",
       "<table border=\"1\" class=\"dataframe\">\n",
       "  <thead>\n",
       "    <tr style=\"text-align: right;\">\n",
       "      <th></th>\n",
       "      <th>var1</th>\n",
       "      <th>var2</th>\n",
       "      <th>var3</th>\n",
       "      <th>var4</th>\n",
       "      <th>var5</th>\n",
       "      <th>var6</th>\n",
       "      <th>mf</th>\n",
       "    </tr>\n",
       "  </thead>\n",
       "  <tbody>\n",
       "    <tr>\n",
       "      <th>0</th>\n",
       "      <td>85.1014</td>\n",
       "      <td>16848</td>\n",
       "      <td>16.6</td>\n",
       "      <td>643</td>\n",
       "      <td>0.3</td>\n",
       "      <td>0.0051</td>\n",
       "      <td>C3H3NO2</td>\n",
       "    </tr>\n",
       "    <tr>\n",
       "      <th>1</th>\n",
       "      <td>86.0599</td>\n",
       "      <td>15149</td>\n",
       "      <td>19.4</td>\n",
       "      <td>753</td>\n",
       "      <td>0.4</td>\n",
       "      <td>0.0057</td>\n",
       "      <td>C3H2O3</td>\n",
       "    </tr>\n",
       "    <tr>\n",
       "      <th>2</th>\n",
       "      <td>87.0438</td>\n",
       "      <td>18891</td>\n",
       "      <td>17</td>\n",
       "      <td>663</td>\n",
       "      <td>0.3</td>\n",
       "      <td>0.0046</td>\n",
       "      <td>C2HNO3</td>\n",
       "    </tr>\n",
       "    <tr>\n",
       "      <th>3</th>\n",
       "      <td>88.0755</td>\n",
       "      <td>15455</td>\n",
       "      <td>55.3</td>\n",
       "      <td>2156</td>\n",
       "      <td>1.1</td>\n",
       "      <td>0.0057</td>\n",
       "      <td>C2O4</td>\n",
       "    </tr>\n",
       "    <tr>\n",
       "      <th>4</th>\n",
       "      <td>89.0593</td>\n",
       "      <td>17062</td>\n",
       "      <td>5.5</td>\n",
       "      <td>215</td>\n",
       "      <td>0.1</td>\n",
       "      <td>0.0052</td>\n",
       "      <td>C2H3NO3</td>\n",
       "    </tr>\n",
       "    <tr>\n",
       "      <th>5</th>\n",
       "      <td>89.9639</td>\n",
       "      <td>16388</td>\n",
       "      <td>25</td>\n",
       "      <td>979</td>\n",
       "      <td>0.5</td>\n",
       "      <td>0.0055</td>\n",
       "      <td>C2H2O4</td>\n",
       "    </tr>\n",
       "    <tr>\n",
       "      <th>6</th>\n",
       "      <td>90.055</td>\n",
       "      <td>16786</td>\n",
       "      <td>3077.1</td>\n",
       "      <td>120565</td>\n",
       "      <td>58.7</td>\n",
       "      <td>0.0054</td>\n",
       "      <td>C2H2O4</td>\n",
       "    </tr>\n",
       "    <tr>\n",
       "      <th>7</th>\n",
       "      <td>90.0913</td>\n",
       "      <td>16209</td>\n",
       "      <td>6.6</td>\n",
       "      <td>257</td>\n",
       "      <td>0.1</td>\n",
       "      <td>0.0056</td>\n",
       "      <td>C2H2O4</td>\n",
       "    </tr>\n",
       "    <tr>\n",
       "      <th>8</th>\n",
       "      <td>91.058</td>\n",
       "      <td>15047</td>\n",
       "      <td>114.3</td>\n",
       "      <td>4490</td>\n",
       "      <td>2.2</td>\n",
       "      <td>0.0061</td>\n",
       "      <td>CHNO4</td>\n",
       "    </tr>\n",
       "    <tr>\n",
       "      <th>9</th>\n",
       "      <td>92.0606</td>\n",
       "      <td>16235</td>\n",
       "      <td>14.8</td>\n",
       "      <td>584</td>\n",
       "      <td>0.3</td>\n",
       "      <td>0.0057</td>\n",
       "      <td>CO5</td>\n",
       "    </tr>\n",
       "  </tbody>\n",
       "</table>\n",
       "</div>"
      ],
      "text/plain": [
       "      var1   var2    var3    var4  var5    var6       mf\n",
       "0  85.1014  16848    16.6     643   0.3  0.0051  C3H3NO2\n",
       "1  86.0599  15149    19.4     753   0.4  0.0057   C3H2O3\n",
       "2  87.0438  18891      17     663   0.3  0.0046   C2HNO3\n",
       "3  88.0755  15455    55.3    2156   1.1  0.0057     C2O4\n",
       "4  89.0593  17062     5.5     215   0.1  0.0052  C2H3NO3\n",
       "5  89.9639  16388      25     979   0.5  0.0055   C2H2O4\n",
       "6   90.055  16786  3077.1  120565  58.7  0.0054   C2H2O4\n",
       "7  90.0913  16209     6.6     257   0.1  0.0056   C2H2O4\n",
       "8   91.058  15047   114.3    4490   2.2  0.0061    CHNO4\n",
       "9  92.0606  16235    14.8     584   0.3  0.0057      CO5"
      ]
     },
     "execution_count": 22,
     "metadata": {},
     "output_type": "execute_result"
    }
   ],
   "source": [
    "df"
   ]
  },
  {
   "cell_type": "markdown",
   "id": "c5cd1b99",
   "metadata": {},
   "source": [
    "#### 3. 분자식에서 나타날 수 있는 분자구조를 찾아보쟈"
   ]
  },
  {
   "cell_type": "code",
   "execution_count": 23,
   "id": "8d8f3c62",
   "metadata": {},
   "outputs": [
    {
     "name": "stdout",
     "output_type": "stream",
     "text": [
      "Collecting pubchempy\n",
      "  Downloading PubChemPy-1.0.4.tar.gz (29 kB)\n",
      "  Preparing metadata (setup.py): started\n",
      "  Preparing metadata (setup.py): finished with status 'done'\n",
      "Building wheels for collected packages: pubchempy\n",
      "  Building wheel for pubchempy (setup.py): started\n",
      "  Building wheel for pubchempy (setup.py): finished with status 'done'\n",
      "  Created wheel for pubchempy: filename=PubChemPy-1.0.4-py3-none-any.whl size=13819 sha256=03e9953f0d755881e371ac0a686c2ae59e5992a488191ab54d645e2de3440ed9\n",
      "  Stored in directory: c:\\users\\dongkeon\\appdata\\local\\pip\\cache\\wheels\\84\\45\\0e\\b597debba098119b642eaf728ae1883d23ad8ea2a9366f2ded\n",
      "Successfully built pubchempy\n",
      "Installing collected packages: pubchempy\n",
      "Successfully installed pubchempy-1.0.4\n"
     ]
    }
   ],
   "source": [
    "!pip install pubchempy"
   ]
  },
  {
   "cell_type": "code",
   "execution_count": 24,
   "id": "1ac734a3",
   "metadata": {},
   "outputs": [],
   "source": [
    "import pubchempy as pcp"
   ]
  },
  {
   "cell_type": "code",
   "execution_count": 25,
   "id": "dddbe71b",
   "metadata": {},
   "outputs": [],
   "source": [
    "mf = df['mf'][0]"
   ]
  },
  {
   "cell_type": "code",
   "execution_count": 26,
   "id": "d5d81410",
   "metadata": {},
   "outputs": [
    {
     "data": {
      "text/plain": [
       "'C3H3NO2'"
      ]
     },
     "execution_count": 26,
     "metadata": {},
     "output_type": "execute_result"
    }
   ],
   "source": [
    "mf"
   ]
  },
  {
   "cell_type": "code",
   "execution_count": 27,
   "id": "ba9d5a50",
   "metadata": {},
   "outputs": [],
   "source": [
    "results = pcp.get_compounds(mf, 'formula',as_dataframe = True) # 시간 상단 소요"
   ]
  },
  {
   "cell_type": "code",
   "execution_count": 28,
   "id": "55b27b8e",
   "metadata": {},
   "outputs": [
    {
     "data": {
      "text/plain": [
       "97"
      ]
     },
     "execution_count": 28,
     "metadata": {},
     "output_type": "execute_result"
    }
   ],
   "source": [
    "len(results.isomeric_smiles)"
   ]
  },
  {
   "cell_type": "code",
   "execution_count": 29,
   "id": "8e5be41a",
   "metadata": {},
   "outputs": [],
   "source": [
    "smiles = results.isomeric_smiles.values[0]"
   ]
  },
  {
   "cell_type": "code",
   "execution_count": 30,
   "id": "cc268b5c",
   "metadata": {
    "scrolled": true
   },
   "outputs": [
    {
     "data": {
      "text/plain": [
       "'C(C#N)C(=O)O'"
      ]
     },
     "execution_count": 30,
     "metadata": {},
     "output_type": "execute_result"
    }
   ],
   "source": [
    "smiles"
   ]
  },
  {
   "cell_type": "code",
   "execution_count": null,
   "id": "0b5bb14d",
   "metadata": {},
   "outputs": [],
   "source": [
    "smiles_list = []\n",
    "for mf in df['mf'].values:\n",
    "    results = pcp.get_compounds(mf, 'formula',as_dataframe = True)\n",
    "    smiles = results.isomeric_smiles.values[0]\n",
    "    smiles_list.append(smiles)"
   ]
  },
  {
   "cell_type": "code",
   "execution_count": null,
   "id": "857a577d",
   "metadata": {},
   "outputs": [],
   "source": [
    "df['smiles'] = smiles_list"
   ]
  },
  {
   "cell_type": "code",
   "execution_count": null,
   "id": "b12ee9aa",
   "metadata": {},
   "outputs": [],
   "source": [
    "df"
   ]
  },
  {
   "cell_type": "markdown",
   "id": "35748d01",
   "metadata": {},
   "source": [
    "#### 4. 분자구조를 그림으로 그리고 imags 폴더에 저장해보자"
   ]
  },
  {
   "cell_type": "code",
   "execution_count": null,
   "id": "66b6bd20",
   "metadata": {},
   "outputs": [],
   "source": [
    "from rdkit import Chem\n",
    "from rdkit.Chem import Draw"
   ]
  },
  {
   "cell_type": "code",
   "execution_count": null,
   "id": "7f71c298",
   "metadata": {},
   "outputs": [],
   "source": [
    "smiles = df['smiles'][0]"
   ]
  },
  {
   "cell_type": "code",
   "execution_count": null,
   "id": "6da15714",
   "metadata": {},
   "outputs": [],
   "source": [
    "mf = df['mf'][0]"
   ]
  },
  {
   "cell_type": "code",
   "execution_count": null,
   "id": "d65eda3b",
   "metadata": {},
   "outputs": [],
   "source": [
    "smiles"
   ]
  },
  {
   "cell_type": "code",
   "execution_count": null,
   "id": "2d9acc6b",
   "metadata": {},
   "outputs": [],
   "source": [
    "mf"
   ]
  },
  {
   "cell_type": "code",
   "execution_count": null,
   "id": "0be96769",
   "metadata": {},
   "outputs": [],
   "source": [
    "mol = Chem.MolFromSmiles(smiles)"
   ]
  },
  {
   "cell_type": "code",
   "execution_count": null,
   "id": "84da28ca",
   "metadata": {},
   "outputs": [],
   "source": [
    "img = Draw.MolToImage(mol,legend = mf)"
   ]
  },
  {
   "cell_type": "code",
   "execution_count": null,
   "id": "32ea06eb",
   "metadata": {
    "scrolled": true
   },
   "outputs": [],
   "source": [
    "img"
   ]
  },
  {
   "cell_type": "code",
   "execution_count": null,
   "id": "c18655bb",
   "metadata": {},
   "outputs": [],
   "source": [
    "img.save('data/images/{}.png'.format(mf))"
   ]
  },
  {
   "cell_type": "code",
   "execution_count": null,
   "id": "ccf817e6",
   "metadata": {},
   "outputs": [],
   "source": [
    "for idx in range(len(df)):\n",
    "    smiles = df['smiles'][idx]\n",
    "    mf = df['mf'][idx]\n",
    "    mol = Chem.MolFromSmiles(smiles)\n",
    "    img = Draw.MolToImage(mol,legend = mf)\n",
    "    img.save('data/images/{}.png'.format(mf))"
   ]
  }
 ],
 "metadata": {
  "kernelspec": {
   "display_name": "Python 3",
   "language": "python",
   "name": "python3"
  },
  "language_info": {
   "codemirror_mode": {
    "name": "ipython",
    "version": 3
   },
   "file_extension": ".py",
   "mimetype": "text/x-python",
   "name": "python",
   "nbconvert_exporter": "python",
   "pygments_lexer": "ipython3",
   "version": "3.9.13"
  }
 },
 "nbformat": 4,
 "nbformat_minor": 5
}
