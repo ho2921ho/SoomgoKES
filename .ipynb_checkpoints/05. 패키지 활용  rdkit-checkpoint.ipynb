{
 "cells": [
  {
   "cell_type": "code",
   "execution_count": 1,
   "id": "6e89a4dd",
   "metadata": {
    "scrolled": true
   },
   "outputs": [
    {
     "name": "stdout",
     "output_type": "stream",
     "text": [
      "Requirement already satisfied: rdkit in c:\\users\\nh\\anaconda3\\lib\\site-packages (2023.3.3)\n",
      "Requirement already satisfied: Pillow in c:\\users\\nh\\anaconda3\\lib\\site-packages (from rdkit) (9.2.0)\n",
      "Requirement already satisfied: numpy in c:\\users\\nh\\anaconda3\\lib\\site-packages (from rdkit) (1.20.0)\n"
     ]
    },
    {
     "name": "stderr",
     "output_type": "stream",
     "text": [
      "WARNING: Ignoring invalid distribution -rotobuf (c:\\users\\nh\\appdata\\roaming\\python\\python39\\site-packages)\n",
      "WARNING: Ignoring invalid distribution -rotobuf (c:\\users\\nh\\appdata\\roaming\\python\\python39\\site-packages)\n",
      "WARNING: Ignoring invalid distribution -rotobuf (c:\\users\\nh\\appdata\\roaming\\python\\python39\\site-packages)\n",
      "WARNING: Ignoring invalid distribution -rotobuf (c:\\users\\nh\\appdata\\roaming\\python\\python39\\site-packages)\n",
      "WARNING: Ignoring invalid distribution -rotobuf (c:\\users\\nh\\appdata\\roaming\\python\\python39\\site-packages)\n",
      "WARNING: Ignoring invalid distribution -rotobuf (c:\\users\\nh\\appdata\\roaming\\python\\python39\\site-packages)\n",
      "\n",
      "[notice] A new release of pip is available: 23.0 -> 23.2.1\n",
      "[notice] To update, run: python.exe -m pip install --upgrade pip\n"
     ]
    }
   ],
   "source": [
    "!pip install rdkit"
   ]
  },
  {
   "cell_type": "markdown",
   "id": "15dd016e",
   "metadata": {},
   "source": [
    "### ★1차 학습목표 파이썬으로 약물 분석 패키지 \"rdkit\"을 활용할 수 있다. ★\n",
    "\n",
    "#### 공식문서 :  https://www.rdkit.org/docs/\n",
    "\n",
    "#### cookbook : https://www.rdkit.org/docs/Cookbook.html#\n",
    "#### 깃허브 : https://github.com/rdkit/rdkit\n"
   ]
  },
  {
   "cell_type": "markdown",
   "id": "3751a85a",
   "metadata": {},
   "source": [
    "RDKit은 cheminformatics와 머신러닝을 위한 여러 기능을 포함하고 있는 파이썬 package입니다.\n",
    "\n",
    "분자구조 표현 형식간 전환, fingerprint generation, similarity caculation부터\n",
    "\n",
    "다양한 Descriptor calculation 함수들을 내장하고 있습니다.\n",
    "\n",
    "또한 머신러닝과 data science를 위해 많이 사용되는 numpy, pandas, sklearn과 같은\n",
    "\n",
    "다른 python package들과의 연계를 통해 분자나 화학반응을 prediction하는 모델 구축이 가능"
   ]
  },
  {
   "cell_type": "markdown",
   "id": "c077d7a0",
   "metadata": {},
   "source": [
    "# Reading, Drawing, and Writing Molecules"
   ]
  },
  {
   "cell_type": "markdown",
   "id": "2da1b52c",
   "metadata": {},
   "source": [
    "## Reading single molecules"
   ]
  },
  {
   "cell_type": "markdown",
   "id": "23fc29fc",
   "metadata": {},
   "source": [
    "### The majority of the basic molecular functionality is found in module rdkit.Chem"
   ]
  },
  {
   "cell_type": "code",
   "execution_count": 2,
   "id": "03cf4395",
   "metadata": {},
   "outputs": [],
   "source": [
    "from rdkit import Chem"
   ]
  },
  {
   "cell_type": "markdown",
   "id": "ed9c5a84",
   "metadata": {},
   "source": [
    "### Individual molecules can be constructed using a variety of approaches"
   ]
  },
  {
   "cell_type": "code",
   "execution_count": 3,
   "id": "f9ad25c0",
   "metadata": {},
   "outputs": [],
   "source": [
    "m = Chem.MolFromSmiles('Cc1ccccc1')"
   ]
  },
  {
   "cell_type": "code",
   "execution_count": 4,
   "id": "a9044db5",
   "metadata": {},
   "outputs": [],
   "source": [
    "m = Chem.MolFromMolFile('data/Cc1ccccc1.mol')"
   ]
  },
  {
   "cell_type": "markdown",
   "id": "95b02e36",
   "metadata": {},
   "source": [
    "#### https://molview.org/ 에서 mol 파일 생성 가능"
   ]
  },
  {
   "cell_type": "markdown",
   "id": "be0f04f2",
   "metadata": {},
   "source": [
    "### All of these functions return a rdkit.Chem.rdchem.Mol object on success"
   ]
  },
  {
   "cell_type": "code",
   "execution_count": 5,
   "id": "7117bde0",
   "metadata": {
    "scrolled": true
   },
   "outputs": [
    {
     "data": {
      "text/plain": [
       "rdkit.Chem.rdchem.Mol"
      ]
     },
     "execution_count": 5,
     "metadata": {},
     "output_type": "execute_result"
    }
   ],
   "source": [
    "type(m)"
   ]
  },
  {
   "cell_type": "markdown",
   "id": "6f95d824",
   "metadata": {},
   "source": [
    "### An rdkit.Chem.rdchem.Mol object can be displayed graphically using rdkit.Chem.Draw.MolToImage()"
   ]
  },
  {
   "cell_type": "code",
   "execution_count": 6,
   "id": "e9429171",
   "metadata": {},
   "outputs": [],
   "source": [
    "from rdkit.Chem import Draw"
   ]
  },
  {
   "cell_type": "code",
   "execution_count": 7,
   "id": "19cf4bce",
   "metadata": {},
   "outputs": [],
   "source": [
    "img = Draw.MolToImage(m)"
   ]
  },
  {
   "cell_type": "code",
   "execution_count": 8,
   "id": "4ebf2483",
   "metadata": {},
   "outputs": [
    {
     "data": {
      "image/png": "[encoded data removed]",
      "text/plain": [
       "<PIL.PngImagePlugin.PngImageFile image mode=RGB size=300x300>"
      ]
     },
     "execution_count": 8,
     "metadata": {},
     "output_type": "execute_result"
    }
   ],
   "source": [
    "img"
   ]
  },
  {
   "cell_type": "code",
   "execution_count": 9,
   "id": "72294a4f",
   "metadata": {},
   "outputs": [
    {
     "data": {
      "text/plain": [
       "PIL.PngImagePlugin.PngImageFile"
      ]
     },
     "execution_count": 9,
     "metadata": {},
     "output_type": "execute_result"
    }
   ],
   "source": [
    "type(img)"
   ]
  },
  {
   "cell_type": "markdown",
   "id": "1208d6a2",
   "metadata": {},
   "source": [
    "### An attempt is made to provide sensible error messages"
   ]
  },
  {
   "cell_type": "code",
   "execution_count": 10,
   "id": "5820e9fc",
   "metadata": {
    "scrolled": true
   },
   "outputs": [
    {
     "name": "stderr",
     "output_type": "stream",
     "text": [
      "[12:40:55] Explicit valence for atom # 1 O, 3, is greater than permitted\n"
     ]
    }
   ],
   "source": [
    "m1 =Chem.MolFromSmiles('CO(C)C')"
   ]
  },
  {
   "cell_type": "code",
   "execution_count": 11,
   "id": "65b724a1",
   "metadata": {},
   "outputs": [
    {
     "data": {
      "text/plain": [
       "True"
      ]
     },
     "execution_count": 11,
     "metadata": {},
     "output_type": "execute_result"
    }
   ],
   "source": [
    "m1 is None"
   ]
  },
  {
   "cell_type": "code",
   "execution_count": 12,
   "id": "b6819fb6",
   "metadata": {},
   "outputs": [
    {
     "name": "stderr",
     "output_type": "stream",
     "text": [
      "[12:40:56] Can't kekulize mol.  Unkekulized atoms: 0 1 2\n"
     ]
    }
   ],
   "source": [
    "m2 = Chem.MolFromSmiles('c1cc1')"
   ]
  },
  {
   "cell_type": "code",
   "execution_count": 13,
   "id": "54ee682d",
   "metadata": {},
   "outputs": [
    {
     "data": {
      "text/plain": [
       "True"
      ]
     },
     "execution_count": 13,
     "metadata": {},
     "output_type": "execute_result"
    }
   ],
   "source": [
    "m2 is None"
   ]
  },
  {
   "cell_type": "markdown",
   "id": "34cb7767",
   "metadata": {},
   "source": [
    "## Reading sets of molecules"
   ]
  },
  {
   "cell_type": "markdown",
   "id": "3fb07a80",
   "metadata": {},
   "source": [
    "### Groups of molecules are read using a Supplier (for example, an rdkit.Chem.rdmolfiles.SDMolSupplier or a rdkit.Chem.rdmolfiles.SmilesMolSupplier)"
   ]
  },
  {
   "cell_type": "code",
   "execution_count": 14,
   "id": "8018122f",
   "metadata": {},
   "outputs": [],
   "source": [
    "suppl = Chem.SDMolSupplier('data/5ht3ligs.sdf')"
   ]
  },
  {
   "cell_type": "markdown",
   "id": "56138f08",
   "metadata": {},
   "source": [
    "#### sdf : Structural Data Files 이란? https://velog.io/@sebam_dev/sdf-file%EC%9D%B4%EB%9E%80"
   ]
  },
  {
   "cell_type": "markdown",
   "id": "f0a3658c",
   "metadata": {},
   "source": [
    "### You can easily produce lists of molecules from a Supplier"
   ]
  },
  {
   "cell_type": "code",
   "execution_count": 15,
   "id": "aee46c5b",
   "metadata": {},
   "outputs": [],
   "source": [
    "mols = [x for x in suppl]"
   ]
  },
  {
   "cell_type": "code",
   "execution_count": 16,
   "id": "407660df",
   "metadata": {},
   "outputs": [
    {
     "data": {
      "text/plain": [
       "[<rdkit.Chem.rdchem.Mol at 0x29d0c2e1d60>,\n",
       " <rdkit.Chem.rdchem.Mol at 0x29d0c2e1e40>,\n",
       " <rdkit.Chem.rdchem.Mol at 0x29d0c2e1eb0>,\n",
       " <rdkit.Chem.rdchem.Mol at 0x29d0c2e1f20>]"
      ]
     },
     "execution_count": 16,
     "metadata": {},
     "output_type": "execute_result"
    }
   ],
   "source": [
    "mols"
   ]
  },
  {
   "cell_type": "code",
   "execution_count": 17,
   "id": "68ff39e0",
   "metadata": {},
   "outputs": [
    {
     "data": {
      "image/png": "[encoded data removed]",
      "text/plain": [
       "<PIL.PngImagePlugin.PngImageFile image mode=RGB size=300x300>"
      ]
     },
     "execution_count": 17,
     "metadata": {},
     "output_type": "execute_result"
    }
   ],
   "source": [
    "Draw.MolToImage(mols[0])"
   ]
  },
  {
   "cell_type": "markdown",
   "id": "82bc6355",
   "metadata": {},
   "source": [
    "### Writing molecules"
   ]
  },
  {
   "cell_type": "markdown",
   "id": "acbbae27",
   "metadata": {},
   "source": [
    "#### Single molecules can be converted to text using several functions present in the rdkit.Chem module.\n",
    "\n",
    "#### For example, for SMILES:"
   ]
  },
  {
   "cell_type": "code",
   "execution_count": 18,
   "id": "d322ac7c",
   "metadata": {},
   "outputs": [],
   "source": [
    "m = Chem.MolFromMolFile('data/chiral.mol')"
   ]
  },
  {
   "cell_type": "code",
   "execution_count": 19,
   "id": "f0267758",
   "metadata": {},
   "outputs": [
    {
     "data": {
      "image/png": "[encoded data removed]",
      "text/plain": [
       "<rdkit.Chem.rdchem.Mol at 0x29d0c3070b0>"
      ]
     },
     "execution_count": 19,
     "metadata": {},
     "output_type": "execute_result"
    }
   ],
   "source": [
    "m"
   ]
  },
  {
   "cell_type": "code",
   "execution_count": 20,
   "id": "cd319a4c",
   "metadata": {},
   "outputs": [
    {
     "data": {
      "text/plain": [
       "'C[C@H](O)c1ccccc1'"
      ]
     },
     "execution_count": 20,
     "metadata": {},
     "output_type": "execute_result"
    }
   ],
   "source": [
    "Chem.MolToSmiles(m)"
   ]
  },
  {
   "cell_type": "code",
   "execution_count": 21,
   "id": "ba5dd76f",
   "metadata": {},
   "outputs": [
    {
     "data": {
      "text/plain": [
       "'CC(O)c1ccccc1'"
      ]
     },
     "execution_count": 21,
     "metadata": {},
     "output_type": "execute_result"
    }
   ],
   "source": [
    "Chem.MolToSmiles(m,isomericSmiles=False)  # isomericSmiles : 이성체 분자구조?"
   ]
  },
  {
   "cell_type": "markdown",
   "id": "3fffd008",
   "metadata": {},
   "source": [
    "#### Note that the SMILES provided is canonical, so the output should be the same no matter how a particular molecule is input"
   ]
  },
  {
   "cell_type": "code",
   "execution_count": 22,
   "id": "b6a62408",
   "metadata": {},
   "outputs": [
    {
     "data": {
      "text/plain": [
       "'c1ccncc1'"
      ]
     },
     "execution_count": 22,
     "metadata": {},
     "output_type": "execute_result"
    }
   ],
   "source": [
    "Chem.MolToSmiles(Chem.MolFromSmiles('C1=CC=CN=C1'))"
   ]
  },
  {
   "cell_type": "code",
   "execution_count": 23,
   "id": "490047cd",
   "metadata": {},
   "outputs": [
    {
     "data": {
      "text/plain": [
       "'c1ccncc1'"
      ]
     },
     "execution_count": 23,
     "metadata": {},
     "output_type": "execute_result"
    }
   ],
   "source": [
    "Chem.MolToSmiles(Chem.MolFromSmiles('c1cccnc1'))"
   ]
  },
  {
   "cell_type": "code",
   "execution_count": 24,
   "id": "b2a4f876",
   "metadata": {},
   "outputs": [
    {
     "data": {
      "text/plain": [
       "'c1ccncc1'"
      ]
     },
     "execution_count": 24,
     "metadata": {},
     "output_type": "execute_result"
    }
   ],
   "source": [
    "Chem.MolToSmiles(Chem.MolFromSmiles('n1ccccc1'))"
   ]
  },
  {
   "cell_type": "markdown",
   "id": "ce351ecb",
   "metadata": {},
   "source": [
    "#### If you’d like to have the Kekule form of the SMILES, first Kekulize the molecule, then use the “kekuleSmiles” option"
   ]
  },
  {
   "cell_type": "code",
   "execution_count": 25,
   "id": "4f596943",
   "metadata": {},
   "outputs": [],
   "source": [
    "Chem.Kekulize(m)"
   ]
  },
  {
   "cell_type": "code",
   "execution_count": 26,
   "id": "8ed8d479",
   "metadata": {},
   "outputs": [
    {
     "data": {
      "text/plain": [
       "'C[C@H](O)C1=CC=CC=C1'"
      ]
     },
     "execution_count": 26,
     "metadata": {},
     "output_type": "execute_result"
    }
   ],
   "source": [
    "Chem.MolToSmiles(m,kekuleSmiles=True)"
   ]
  },
  {
   "cell_type": "markdown",
   "id": "3182ad06",
   "metadata": {},
   "source": [
    "#### 그 외에도 2d, 3d 그래프를 그리기 위한 molblock 데이터로 변환도 가능.자세한 사항은 문서 참고"
   ]
  },
  {
   "cell_type": "markdown",
   "id": "40ada536",
   "metadata": {},
   "source": [
    "#### If you’d like to write the molecule to a file, use Python file objects"
   ]
  },
  {
   "cell_type": "code",
   "execution_count": 27,
   "id": "f298a28a",
   "metadata": {
    "scrolled": true
   },
   "outputs": [
    {
     "data": {
      "image/png": "[encoded data removed]",
      "text/plain": [
       "<rdkit.Chem.rdchem.Mol at 0x29d0c3070b0>"
      ]
     },
     "execution_count": 27,
     "metadata": {},
     "output_type": "execute_result"
    }
   ],
   "source": [
    "m"
   ]
  },
  {
   "cell_type": "code",
   "execution_count": 28,
   "id": "2f72272c",
   "metadata": {},
   "outputs": [],
   "source": [
    "print(Chem.MolToMolBlock(m),file=open('data/foo.mol','w+'))"
   ]
  },
  {
   "cell_type": "markdown",
   "id": "45d9ffdd",
   "metadata": {},
   "source": [
    "#### pandas와 연계해 데이터를 저장"
   ]
  },
  {
   "cell_type": "code",
   "execution_count": 29,
   "id": "b0c02509",
   "metadata": {
    "scrolled": true
   },
   "outputs": [],
   "source": [
    "smiles = Chem.MolToSmiles(m)"
   ]
  },
  {
   "cell_type": "code",
   "execution_count": 30,
   "id": "6b5f2244",
   "metadata": {},
   "outputs": [
    {
     "data": {
      "text/plain": [
       "'C[C@H](O)c1ccccc1'"
      ]
     },
     "execution_count": 30,
     "metadata": {},
     "output_type": "execute_result"
    }
   ],
   "source": [
    "smiles"
   ]
  },
  {
   "cell_type": "code",
   "execution_count": 31,
   "id": "7f0396f5",
   "metadata": {},
   "outputs": [],
   "source": [
    "import pandas as pd"
   ]
  },
  {
   "cell_type": "code",
   "execution_count": 32,
   "id": "de7ec79c",
   "metadata": {},
   "outputs": [
    {
     "data": {
      "image/png": "[encoded data removed]",
      "text/plain": [
       "<rdkit.Chem.rdchem.Mol at 0x29d0c3070b0>"
      ]
     },
     "execution_count": 32,
     "metadata": {},
     "output_type": "execute_result"
    }
   ],
   "source": [
    "m"
   ]
  },
  {
   "cell_type": "code",
   "execution_count": 33,
   "id": "c86ef8bc",
   "metadata": {},
   "outputs": [],
   "source": [
    "mol_df = pd.DataFrame({'Smiles':smiles}, index = [0])"
   ]
  },
  {
   "cell_type": "code",
   "execution_count": 34,
   "id": "86b52615",
   "metadata": {},
   "outputs": [
    {
     "data": {
      "text/html": [
       "<div>\n",
       "<style scoped>\n",
       "    .dataframe tbody tr th:only-of-type {\n",
       "        vertical-align: middle;\n",
       "    }\n",
       "\n",
       "    .dataframe tbody tr th {\n",
       "        vertical-align: top;\n",
       "    }\n",
       "\n",
       "    .dataframe thead th {\n",
       "        text-align: right;\n",
       "    }\n",
       "</style>\n",
       "<table border=\"1\" class=\"dataframe\">\n",
       "  <thead>\n",
       "    <tr style=\"text-align: right;\">\n",
       "      <th></th>\n",
       "      <th>Smiles</th>\n",
       "    </tr>\n",
       "  </thead>\n",
       "  <tbody>\n",
       "    <tr>\n",
       "      <th>0</th>\n",
       "      <td>C[C@H](O)c1ccccc1</td>\n",
       "    </tr>\n",
       "  </tbody>\n",
       "</table>\n",
       "</div>"
      ],
      "text/plain": [
       "              Smiles\n",
       "0  C[C@H](O)c1ccccc1"
      ]
     },
     "execution_count": 34,
     "metadata": {},
     "output_type": "execute_result"
    }
   ],
   "source": [
    "mol_df "
   ]
  },
  {
   "cell_type": "code",
   "execution_count": 35,
   "id": "9a4f4904",
   "metadata": {},
   "outputs": [],
   "source": [
    "mol_df.to_csv('data/foo.csv',index = False)"
   ]
  },
  {
   "cell_type": "markdown",
   "id": "9ae5a367",
   "metadata": {},
   "source": [
    "#### Draw.MolToFile 메소드를 활용해 이미지를 저장할 수 도 있다"
   ]
  },
  {
   "cell_type": "code",
   "execution_count": 36,
   "id": "0969dfe8",
   "metadata": {},
   "outputs": [
    {
     "data": {
      "image/png": "[encoded data removed]",
      "text/plain": [
       "<rdkit.Chem.rdchem.Mol at 0x29d0c3070b0>"
      ]
     },
     "execution_count": 36,
     "metadata": {},
     "output_type": "execute_result"
    }
   ],
   "source": [
    "m"
   ]
  },
  {
   "cell_type": "code",
   "execution_count": 37,
   "id": "4b36dc83",
   "metadata": {},
   "outputs": [],
   "source": [
    "Draw.MolToFile(m,'data/images/foo.png')   "
   ]
  },
  {
   "cell_type": "code",
   "execution_count": 38,
   "id": "0092c010",
   "metadata": {},
   "outputs": [],
   "source": [
    "img = Draw.MolToImage(m,legend= Chem.MolToSmiles(m,isomericSmiles=False))"
   ]
  },
  {
   "cell_type": "code",
   "execution_count": 39,
   "id": "868068f0",
   "metadata": {
    "scrolled": true
   },
   "outputs": [
    {
     "data": {
      "image/png": "[encoded data removed]",
      "text/plain": [
       "<PIL.PngImagePlugin.PngImageFile image mode=RGB size=300x300>"
      ]
     },
     "execution_count": 39,
     "metadata": {},
     "output_type": "execute_result"
    }
   ],
   "source": [
    "img"
   ]
  },
  {
   "cell_type": "code",
   "execution_count": 40,
   "id": "3ba14974",
   "metadata": {},
   "outputs": [],
   "source": [
    "img.save('data/images/foo_with_legend.png')"
   ]
  },
  {
   "cell_type": "markdown",
   "id": "713c615e",
   "metadata": {},
   "source": [
    "## Working with Molecules"
   ]
  },
  {
   "cell_type": "markdown",
   "id": "a8579a16",
   "metadata": {},
   "source": [
    "### Looping over Atoms and Bonds"
   ]
  },
  {
   "cell_type": "markdown",
   "id": "3e6a2b61",
   "metadata": {},
   "source": [
    "#### Once you have a molecule, it’s easy to loop over its atoms and bonds"
   ]
  },
  {
   "cell_type": "code",
   "execution_count": 41,
   "id": "70bf09da",
   "metadata": {},
   "outputs": [],
   "source": [
    "m = Chem.MolFromSmiles('C1OC1')"
   ]
  },
  {
   "cell_type": "code",
   "execution_count": 42,
   "id": "bbc4545c",
   "metadata": {},
   "outputs": [
    {
     "name": "stdout",
     "output_type": "stream",
     "text": [
      "6\n",
      "8\n",
      "6\n"
     ]
    }
   ],
   "source": [
    "for atom in m.GetAtoms():\n",
    "    print(atom.GetAtomicNum())"
   ]
  },
  {
   "cell_type": "markdown",
   "id": "013fd508",
   "metadata": {},
   "source": [
    "### Ring Information"
   ]
  },
  {
   "cell_type": "markdown",
   "id": "a1be3eea",
   "metadata": {},
   "source": [
    "#### Atoms and bonds both carry information about the molecule’s rings"
   ]
  },
  {
   "cell_type": "code",
   "execution_count": 43,
   "id": "1618528b",
   "metadata": {},
   "outputs": [],
   "source": [
    "m = Chem.MolFromSmiles('OC1C2C1CC2')"
   ]
  },
  {
   "cell_type": "code",
   "execution_count": 44,
   "id": "4816a7c2",
   "metadata": {},
   "outputs": [
    {
     "data": {
      "text/plain": [
       "False"
      ]
     },
     "execution_count": 44,
     "metadata": {},
     "output_type": "execute_result"
    }
   ],
   "source": [
    "m.GetAtomWithIdx(0).IsInRing()"
   ]
  },
  {
   "cell_type": "code",
   "execution_count": 45,
   "id": "da556204",
   "metadata": {},
   "outputs": [
    {
     "data": {
      "text/plain": [
       "True"
      ]
     },
     "execution_count": 45,
     "metadata": {},
     "output_type": "execute_result"
    }
   ],
   "source": [
    "m.GetAtomWithIdx(1).IsInRing()"
   ]
  },
  {
   "cell_type": "code",
   "execution_count": 46,
   "id": "9fb375b7",
   "metadata": {},
   "outputs": [
    {
     "data": {
      "text/plain": [
       "True"
      ]
     },
     "execution_count": 46,
     "metadata": {},
     "output_type": "execute_result"
    }
   ],
   "source": [
    "m.GetAtomWithIdx(2).IsInRingSize(3)"
   ]
  },
  {
   "cell_type": "code",
   "execution_count": 47,
   "id": "1baf17a7",
   "metadata": {},
   "outputs": [
    {
     "data": {
      "text/plain": [
       "True"
      ]
     },
     "execution_count": 47,
     "metadata": {},
     "output_type": "execute_result"
    }
   ],
   "source": [
    "m.GetAtomWithIdx(2).IsInRingSize(4)"
   ]
  },
  {
   "cell_type": "code",
   "execution_count": 48,
   "id": "f4bd8b70",
   "metadata": {},
   "outputs": [
    {
     "data": {
      "text/plain": [
       "False"
      ]
     },
     "execution_count": 48,
     "metadata": {},
     "output_type": "execute_result"
    }
   ],
   "source": [
    "m.GetAtomWithIdx(2).IsInRingSize(5)"
   ]
  },
  {
   "cell_type": "code",
   "execution_count": 49,
   "id": "c8dc8e21",
   "metadata": {},
   "outputs": [
    {
     "data": {
      "text/plain": [
       "True"
      ]
     },
     "execution_count": 49,
     "metadata": {},
     "output_type": "execute_result"
    }
   ],
   "source": [
    "m.GetBondWithIdx(1).IsInRingSize(3)"
   ]
  },
  {
   "cell_type": "code",
   "execution_count": 50,
   "id": "9089589f",
   "metadata": {},
   "outputs": [
    {
     "data": {
      "text/plain": [
       "True"
      ]
     },
     "execution_count": 50,
     "metadata": {},
     "output_type": "execute_result"
    }
   ],
   "source": [
    "m.GetBondWithIdx(1).IsInRing()"
   ]
  },
  {
   "cell_type": "code",
   "execution_count": 51,
   "id": "622999c7",
   "metadata": {},
   "outputs": [
    {
     "data": {
      "text/plain": [
       "True"
      ]
     },
     "execution_count": 51,
     "metadata": {},
     "output_type": "execute_result"
    }
   ],
   "source": [
    "m.GetBondWithIdx(1).IsInRing()"
   ]
  },
  {
   "cell_type": "markdown",
   "id": "f9050bab",
   "metadata": {},
   "source": [
    "#### Draw a molecule with atom index numbers."
   ]
  },
  {
   "cell_type": "code",
   "execution_count": 52,
   "id": "32a175e3",
   "metadata": {},
   "outputs": [],
   "source": [
    "from rdkit import Chem\n",
    "from rdkit.Chem import Draw"
   ]
  },
  {
   "cell_type": "code",
   "execution_count": 53,
   "id": "9824d332",
   "metadata": {},
   "outputs": [],
   "source": [
    "def mol_with_atom_index(mol):\n",
    "    for atom in mol.GetAtoms():\n",
    "        atom.SetAtomMapNum(atom.GetIdx())\n",
    "    return mol"
   ]
  },
  {
   "cell_type": "code",
   "execution_count": 54,
   "id": "6dce6836",
   "metadata": {},
   "outputs": [
    {
     "data": {
      "image/png": "[encoded data removed]",
      "text/plain": [
       "<rdkit.Chem.rdchem.Mol at 0x29d1e6a4900>"
      ]
     },
     "execution_count": 54,
     "metadata": {},
     "output_type": "execute_result"
    }
   ],
   "source": [
    "# Test in a kinase inhibitor\n",
    "mol = Chem.MolFromSmiles(\"C1CC2=C3C(=CC=C2)C(=CN3C1)[C@H]4[C@@H](C(=O)NC4=O)C5=CNC6=CC=CC=C65\")\n",
    "# Default\n",
    "mol"
   ]
  },
  {
   "cell_type": "code",
   "execution_count": 55,
   "id": "5e1f2929",
   "metadata": {},
   "outputs": [
    {
     "data": {
      "image/png": "[encoded data removed]",
      "text/plain": [
       "<rdkit.Chem.rdchem.Mol at 0x29d1e6a4900>"
      ]
     },
     "execution_count": 55,
     "metadata": {},
     "output_type": "execute_result"
    }
   ],
   "source": [
    "# With atom index\n",
    "mol_with_atom_index(mol)"
   ]
  },
  {
   "cell_type": "markdown",
   "id": "45531927",
   "metadata": {},
   "source": [
    "#### Draw a molecule with a calculation value displayed (e.g., Gasteiger Charge)"
   ]
  },
  {
   "cell_type": "code",
   "execution_count": 56,
   "id": "ac91c73a",
   "metadata": {},
   "outputs": [],
   "source": [
    "from rdkit.Chem.Draw import IPythonConsole"
   ]
  },
  {
   "cell_type": "code",
   "execution_count": 57,
   "id": "eefdd25e",
   "metadata": {},
   "outputs": [],
   "source": [
    "from rdkit.Chem import AllChem\n",
    "IPythonConsole.molSize = 250,250"
   ]
  },
  {
   "cell_type": "code",
   "execution_count": 58,
   "id": "9b76e7ce",
   "metadata": {},
   "outputs": [
    {
     "data": {
      "image/png": "[encoded data removed]",
      "text/plain": [
       "<rdkit.Chem.rdchem.Mol at 0x29d1e78d120>"
      ]
     },
     "execution_count": 58,
     "metadata": {},
     "output_type": "execute_result"
    }
   ],
   "source": [
    "m = Chem.MolFromSmiles('c1ncncc1C(=O)[O-]')\n",
    "AllChem.ComputeGasteigerCharges(m)\n",
    "m"
   ]
  },
  {
   "cell_type": "code",
   "execution_count": 59,
   "id": "40e16140",
   "metadata": {},
   "outputs": [
    {
     "data": {
      "image/png": "[encoded data removed]",
      "text/plain": [
       "<rdkit.Chem.rdchem.Mol at 0x29d1e782ea0>"
      ]
     },
     "execution_count": 59,
     "metadata": {},
     "output_type": "execute_result"
    }
   ],
   "source": [
    "m2 = Chem.Mol(m)\n",
    "for at in m2.GetAtoms():\n",
    "    lbl = '%.2f'%(at.GetDoubleProp(\"_GasteigerCharge\"))\n",
    "    at.SetProp('atomNote',lbl)\n",
    "m2"
   ]
  },
  {
   "cell_type": "markdown",
   "id": "c413878a",
   "metadata": {},
   "source": [
    "#### Draw a molecule with stereochemistry annotations displayed."
   ]
  },
  {
   "cell_type": "code",
   "execution_count": 60,
   "id": "767a27aa",
   "metadata": {},
   "outputs": [],
   "source": [
    "IPythonConsole.drawOptions.addAtomIndices = False\n",
    "IPythonConsole.drawOptions.addStereoAnnotation = True"
   ]
  },
  {
   "cell_type": "code",
   "execution_count": 61,
   "id": "fd2c9ce8",
   "metadata": {},
   "outputs": [
    {
     "data": {
      "image/png": "[encoded data removed]",
      "text/plain": [
       "<IPython.core.display.Image object>"
      ]
     },
     "execution_count": 61,
     "metadata": {},
     "output_type": "execute_result"
    }
   ],
   "source": [
    "m1 = Chem.MolFromSmiles('C1CC1[C@H](F)C1CCC1')\n",
    "m2 = Chem.MolFromSmiles('F[C@H]1CC[C@H](O)CC1')\n",
    "\n",
    "Draw.MolsToGridImage((m1,m2), subImgSize=(250,250))"
   ]
  },
  {
   "cell_type": "code",
   "execution_count": 62,
   "id": "f32d3154",
   "metadata": {},
   "outputs": [
    {
     "data": {
      "image/png": "[encoded data removed]",
      "text/plain": [
       "<IPython.core.display.Image object>"
      ]
     },
     "execution_count": 62,
     "metadata": {},
     "output_type": "execute_result"
    }
   ],
   "source": [
    "# new stereochemistry code with more accurate CIP labels, 2020.09 release\n",
    "from rdkit.Chem import rdCIPLabeler\n",
    "rdCIPLabeler.AssignCIPLabels(m1)\n",
    "rdCIPLabeler.AssignCIPLabels(m2)\n",
    "Draw.MolsToGridImage((m1,m2), subImgSize=(250,250))"
   ]
  },
  {
   "cell_type": "markdown",
   "id": "db1f35d2",
   "metadata": {},
   "source": [
    "#### Draw a molecule with a substructure highlight"
   ]
  },
  {
   "cell_type": "code",
   "execution_count": 63,
   "id": "ff549612",
   "metadata": {},
   "outputs": [
    {
     "name": "stdout",
     "output_type": "stream",
     "text": [
      "((3, 4, 5), (8, 9, 7))\n"
     ]
    }
   ],
   "source": [
    "m = Chem.MolFromSmiles('c1cc(C(=O)O)c(OC(=O)C)cc1')\n",
    "substructure = Chem.MolFromSmarts('C(=O)O')\n",
    "print(m.GetSubstructMatches(substructure))"
   ]
  },
  {
   "cell_type": "code",
   "execution_count": 64,
   "id": "09c34c91",
   "metadata": {
    "scrolled": true
   },
   "outputs": [
    {
     "data": {
      "image/png": "[encoded data removed]",
      "text/plain": [
       "<rdkit.Chem.rdchem.Mol at 0x29d1e78dba0>"
      ]
     },
     "execution_count": 64,
     "metadata": {},
     "output_type": "execute_result"
    }
   ],
   "source": [
    "m"
   ]
  },
  {
   "cell_type": "code",
   "execution_count": 65,
   "id": "d2af9585",
   "metadata": {
    "scrolled": true
   },
   "outputs": [
    {
     "data": {
      "image/png": "[encoded data removed]",
      "text/plain": [
       "<rdkit.Chem.rdchem.Mol at 0x29d1e78dba0>"
      ]
     },
     "execution_count": 65,
     "metadata": {},
     "output_type": "execute_result"
    }
   ],
   "source": [
    "# you can also manually set the atoms that should be highlighted:\n",
    "m.__sssAtoms = [0,1,2,6,11,12]\n",
    "m"
   ]
  },
  {
   "cell_type": "markdown",
   "id": "7adf53cb",
   "metadata": {},
   "source": [
    "#### Highlight molecule differences based on maximum common substructure"
   ]
  },
  {
   "cell_type": "code",
   "execution_count": 66,
   "id": "e948964a",
   "metadata": {},
   "outputs": [],
   "source": [
    "from rdkit.Chem import rdFMCS\n",
    "from rdkit.Chem.Draw import rdDepictor\n",
    "rdDepictor.SetPreferCoordGen(True)\n",
    "IPythonConsole.drawOptions.minFontSize=20"
   ]
  },
  {
   "cell_type": "code",
   "execution_count": 67,
   "id": "5c59cfa1",
   "metadata": {},
   "outputs": [],
   "source": [
    "mol1 = Chem.MolFromSmiles('FC1=CC=C2C(=C1)C=NN2')\n",
    "mol2 = Chem.MolFromSmiles('CCC1=C2NN=CC2=CC(Cl)=C1')"
   ]
  },
  {
   "cell_type": "code",
   "execution_count": 68,
   "id": "6c469ea4",
   "metadata": {
    "scrolled": true
   },
   "outputs": [
    {
     "data": {
      "image/png": "[encoded data removed]",
      "text/plain": [
       "<IPython.core.display.Image object>"
      ]
     },
     "execution_count": 68,
     "metadata": {},
     "output_type": "execute_result"
    }
   ],
   "source": [
    "Draw.MolsToGridImage([mol1, mol2])"
   ]
  },
  {
   "cell_type": "code",
   "execution_count": 69,
   "id": "df07ee97",
   "metadata": {},
   "outputs": [],
   "source": [
    "def view_difference(mol1, mol2):\n",
    "    mcs = rdFMCS.FindMCS([mol1,mol2])\n",
    "    mcs_mol = Chem.MolFromSmarts(mcs.smartsString)\n",
    "    match1 = mol1.GetSubstructMatch(mcs_mol)\n",
    "    target_atm1 = []\n",
    "    for atom in mol1.GetAtoms():\n",
    "        if atom.GetIdx() not in match1:\n",
    "            target_atm1.append(atom.GetIdx())\n",
    "    match2 = mol2.GetSubstructMatch(mcs_mol)\n",
    "    target_atm2 = []\n",
    "    for atom in mol2.GetAtoms():\n",
    "        if atom.GetIdx() not in match2:\n",
    "            target_atm2.append(atom.GetIdx())\n",
    "    return Draw.MolsToGridImage([mol1, mol2],highlightAtomLists=[target_atm1, target_atm2])"
   ]
  },
  {
   "cell_type": "code",
   "execution_count": 70,
   "id": "7d46e0ae",
   "metadata": {
    "scrolled": true
   },
   "outputs": [
    {
     "data": {
      "image/png": "[encoded data removed]",
      "text/plain": [
       "<IPython.core.display.Image object>"
      ]
     },
     "execution_count": 70,
     "metadata": {},
     "output_type": "execute_result"
    }
   ],
   "source": [
    "view_difference(mol1,mol2)"
   ]
  }
 ],
 "metadata": {
  "kernelspec": {
   "display_name": "Python 3 (ipykernel)",
   "language": "python",
   "name": "python3"
  },
  "language_info": {
   "codemirror_mode": {
    "name": "ipython",
    "version": 3
   },
   "file_extension": ".py",
   "mimetype": "text/x-python",
   "name": "python",
   "nbconvert_exporter": "python",
   "pygments_lexer": "ipython3",
   "version": "3.9.13"
  }
 },
 "nbformat": 4,
 "nbformat_minor": 5
}
