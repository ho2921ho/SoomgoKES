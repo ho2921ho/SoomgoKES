{
 "cells": [
  {
   "cell_type": "markdown",
   "id": "c42a4b59",
   "metadata": {},
   "source": [
    "# python \n",
    "### 타 언어에 비해 문법이 쉽고 ML,DL 등 강력한 라이브러리(모듈)를 활용할 수 있는 언어."
   ]
  },
  {
   "cell_type": "markdown",
   "id": "352192bc",
   "metadata": {},
   "source": [
    "# Jupyter notebook\n",
    "\n",
    "### python IDE(편집기) : 파이썬 코드 작성 및 분석을 편하게 해주는 프로그램\n",
    "### 각 IDE마다 장단점이 있음. jupyter notebook이 입문용으로 가장 많이 사용\n",
    "(그외에도 spyder, pycharm, VScode, google colab 등등)"
   ]
  },
  {
   "cell_type": "markdown",
   "id": "db0b6418",
   "metadata": {},
   "source": [
    "#### 참고교재 : 왕초보를 위한 Python: 쉽게 풀어 쓴 기초 문법과 실습"
   ]
  },
  {
   "cell_type": "markdown",
   "id": "71799bb9",
   "metadata": {},
   "source": [
    "## 파이썬 맛보기"
   ]
  },
  {
   "cell_type": "code",
   "execution_count": 89,
   "id": "9e8d7811",
   "metadata": {},
   "outputs": [
    {
     "data": {
      "text/plain": [
       "3"
      ]
     },
     "execution_count": 89,
     "metadata": {},
     "output_type": "execute_result"
    }
   ],
   "source": [
    "1 + 2 # 덧셈"
   ]
  },
  {
   "cell_type": "code",
   "execution_count": 2,
   "id": "2ab90d6f",
   "metadata": {
    "scrolled": true
   },
   "outputs": [
    {
     "data": {
      "text/plain": [
       "46"
      ]
     },
     "execution_count": 2,
     "metadata": {},
     "output_type": "execute_result"
    }
   ],
   "source": [
    "50 - 4 # 뺄셈"
   ]
  },
  {
   "cell_type": "code",
   "execution_count": 110,
   "id": "d45e44a9",
   "metadata": {},
   "outputs": [
    {
     "data": {
      "text/plain": [
       "369"
      ]
     },
     "execution_count": 110,
     "metadata": {},
     "output_type": "execute_result"
    }
   ],
   "source": [
    "123 * 3 # 곱셈"
   ]
  },
  {
   "cell_type": "code",
   "execution_count": 111,
   "id": "6e72d2cb",
   "metadata": {
    "scrolled": true
   },
   "outputs": [
    {
     "data": {
      "text/plain": [
       "10.0"
      ]
     },
     "execution_count": 111,
     "metadata": {},
     "output_type": "execute_result"
    }
   ],
   "source": [
    "30 / 3 # 나눗셈"
   ]
  },
  {
   "cell_type": "code",
   "execution_count": 88,
   "id": "15df5851",
   "metadata": {
    "scrolled": true
   },
   "outputs": [
    {
     "data": {
      "text/plain": [
       "2"
      ]
     },
     "execution_count": 88,
     "metadata": {},
     "output_type": "execute_result"
    }
   ],
   "source": [
    "50 % 8 # 몫"
   ]
  },
  {
   "cell_type": "markdown",
   "id": "6165994f",
   "metadata": {},
   "source": [
    "## 변수, variable : 특정 데이터를 저장해놓는 상자"
   ]
  },
  {
   "cell_type": "code",
   "execution_count": null,
   "id": "0a6885ea",
   "metadata": {},
   "outputs": [],
   "source": [
    "watch = 1000"
   ]
  },
  {
   "cell_type": "code",
   "execution_count": null,
   "id": "49c0d1d5",
   "metadata": {},
   "outputs": [],
   "source": [
    "lighter = 30"
   ]
  },
  {
   "cell_type": "code",
   "execution_count": null,
   "id": "dd780359",
   "metadata": {},
   "outputs": [],
   "source": [
    "watch + lighter"
   ]
  },
  {
   "cell_type": "code",
   "execution_count": 125,
   "id": "e2e83346",
   "metadata": {},
   "outputs": [],
   "source": [
    "price = 1000"
   ]
  },
  {
   "cell_type": "code",
   "execution_count": 126,
   "id": "051b8b53",
   "metadata": {},
   "outputs": [],
   "source": [
    "discount_rate = 0.1"
   ]
  },
  {
   "cell_type": "code",
   "execution_count": 127,
   "id": "fd3ee88f",
   "metadata": {},
   "outputs": [],
   "source": [
    "price = price * (1 - discount_rate)"
   ]
  },
  {
   "cell_type": "code",
   "execution_count": 128,
   "id": "889d6fa6",
   "metadata": {},
   "outputs": [
    {
     "data": {
      "text/plain": [
       "900.0"
      ]
     },
     "execution_count": 128,
     "metadata": {},
     "output_type": "execute_result"
    }
   ],
   "source": [
    "price"
   ]
  },
  {
   "cell_type": "code",
   "execution_count": 14,
   "id": "c29cb2bb",
   "metadata": {},
   "outputs": [],
   "source": [
    "a = 'H^2'"
   ]
  },
  {
   "cell_type": "code",
   "execution_count": 15,
   "id": "b4b24d25",
   "metadata": {},
   "outputs": [],
   "source": [
    "b = 'O'"
   ]
  },
  {
   "cell_type": "code",
   "execution_count": 16,
   "id": "4cb10f93",
   "metadata": {
    "scrolled": true
   },
   "outputs": [
    {
     "data": {
      "text/plain": [
       "'H^2O'"
      ]
     },
     "execution_count": 16,
     "metadata": {},
     "output_type": "execute_result"
    }
   ],
   "source": [
    "a + b # 파이썬의 장점 중 하나 : 문자열 처리가 직관적이다."
   ]
  },
  {
   "cell_type": "markdown",
   "id": "e57e7c75",
   "metadata": {},
   "source": [
    "## 자료형 : 데이터의 종류"
   ]
  },
  {
   "cell_type": "markdown",
   "id": "c5f010df",
   "metadata": {},
   "source": [
    "### 일반적인 자료형"
   ]
  },
  {
   "cell_type": "code",
   "execution_count": 77,
   "id": "40bbd886",
   "metadata": {
    "scrolled": false
   },
   "outputs": [],
   "source": [
    "sample = 10"
   ]
  },
  {
   "cell_type": "code",
   "execution_count": 78,
   "id": "9efa16fa",
   "metadata": {},
   "outputs": [
    {
     "data": {
      "text/plain": [
       "int"
      ]
     },
     "execution_count": 78,
     "metadata": {},
     "output_type": "execute_result"
    }
   ],
   "source": [
    "type(sample) # 정수"
   ]
  },
  {
   "cell_type": "code",
   "execution_count": 79,
   "id": "a9db3bce",
   "metadata": {
    "scrolled": true
   },
   "outputs": [],
   "source": [
    "sample = 2.8"
   ]
  },
  {
   "cell_type": "code",
   "execution_count": 80,
   "id": "570f18bc",
   "metadata": {},
   "outputs": [
    {
     "data": {
      "text/plain": [
       "float"
      ]
     },
     "execution_count": 80,
     "metadata": {},
     "output_type": "execute_result"
    }
   ],
   "source": [
    "type(sample) # 실수,"
   ]
  },
  {
   "cell_type": "code",
   "execution_count": 81,
   "id": "515b2e74",
   "metadata": {
    "scrolled": true
   },
   "outputs": [],
   "source": [
    "sample = 'python'"
   ]
  },
  {
   "cell_type": "code",
   "execution_count": 84,
   "id": "7a9ed041",
   "metadata": {},
   "outputs": [
    {
     "data": {
      "text/plain": [
       "bool"
      ]
     },
     "execution_count": 84,
     "metadata": {},
     "output_type": "execute_result"
    }
   ],
   "source": [
    "type(sample) # 문자열, string"
   ]
  },
  {
   "cell_type": "code",
   "execution_count": 82,
   "id": "07a53cf9",
   "metadata": {},
   "outputs": [],
   "source": [
    "sample = False"
   ]
  },
  {
   "cell_type": "code",
   "execution_count": 83,
   "id": "69034f2f",
   "metadata": {},
   "outputs": [
    {
     "data": {
      "text/plain": [
       "bool"
      ]
     },
     "execution_count": 83,
     "metadata": {},
     "output_type": "execute_result"
    }
   ],
   "source": [
    "type(sample) # 참거짓, boolean"
   ]
  },
  {
   "cell_type": "code",
   "execution_count": 85,
   "id": "bf9ff79e",
   "metadata": {},
   "outputs": [],
   "source": [
    "sample = True"
   ]
  },
  {
   "cell_type": "code",
   "execution_count": 87,
   "id": "9ad310d6",
   "metadata": {},
   "outputs": [
    {
     "data": {
      "text/plain": [
       "bool"
      ]
     },
     "execution_count": 87,
     "metadata": {},
     "output_type": "execute_result"
    }
   ],
   "source": [
    "type(sample) # 참거짓, boolean"
   ]
  },
  {
   "cell_type": "markdown",
   "id": "1084f4fb",
   "metadata": {},
   "source": [
    "### 특수한 자료형"
   ]
  },
  {
   "cell_type": "markdown",
   "id": "2b1d7406",
   "metadata": {},
   "source": [
    "#### 리스트, List"
   ]
  },
  {
   "cell_type": "code",
   "execution_count": 36,
   "id": "779a17c7",
   "metadata": {
    "scrolled": true
   },
   "outputs": [
    {
     "data": {
      "text/plain": [
       "list"
      ]
     },
     "execution_count": 36,
     "metadata": {},
     "output_type": "execute_result"
    }
   ],
   "source": [
    "sample = list([1,2,3,4])"
   ]
  },
  {
   "cell_type": "code",
   "execution_count": null,
   "id": "bc3c6c79",
   "metadata": {},
   "outputs": [],
   "source": [
    "type(sample)"
   ]
  },
  {
   "cell_type": "code",
   "execution_count": 37,
   "id": "55a913fc",
   "metadata": {
    "scrolled": true
   },
   "outputs": [
    {
     "data": {
      "text/plain": [
       "list"
      ]
     },
     "execution_count": 37,
     "metadata": {},
     "output_type": "execute_result"
    }
   ],
   "source": [
    "sample = [1,2,3,4]"
   ]
  },
  {
   "cell_type": "code",
   "execution_count": null,
   "id": "0b01dfc3",
   "metadata": {},
   "outputs": [],
   "source": [
    "type(sample)"
   ]
  },
  {
   "cell_type": "markdown",
   "id": "f2db48d9",
   "metadata": {},
   "source": [
    "#### 딕셔너리, Dictionaray"
   ]
  },
  {
   "cell_type": "code",
   "execution_count": 45,
   "id": "2702b9f6",
   "metadata": {
    "scrolled": true
   },
   "outputs": [
    {
     "data": {
      "text/plain": [
       "dict"
      ]
     },
     "execution_count": 45,
     "metadata": {},
     "output_type": "execute_result"
    }
   ],
   "source": [
    "sample = dict({'one': 1, 'two': 2, 'three': 3}"
   ]
  },
  {
   "cell_type": "code",
   "execution_count": null,
   "id": "b278af53",
   "metadata": {},
   "outputs": [],
   "source": [
    "type(sample)"
   ]
  },
  {
   "cell_type": "code",
   "execution_count": 46,
   "id": "6cf8cc44",
   "metadata": {
    "scrolled": true
   },
   "outputs": [
    {
     "data": {
      "text/plain": [
       "dict"
      ]
     },
     "execution_count": 46,
     "metadata": {},
     "output_type": "execute_result"
    }
   ],
   "source": [
    "sample = {'one': 1, 'two': 2, 'three': 3} # 맵핑"
   ]
  },
  {
   "cell_type": "code",
   "execution_count": null,
   "id": "60cb6360",
   "metadata": {},
   "outputs": [],
   "source": [
    "type(sample)"
   ]
  },
  {
   "cell_type": "markdown",
   "id": "56892042",
   "metadata": {},
   "source": [
    "#### 셋, Set"
   ]
  },
  {
   "cell_type": "code",
   "execution_count": 48,
   "id": "ded349b4",
   "metadata": {
    "scrolled": false
   },
   "outputs": [
    {
     "data": {
      "text/plain": [
       "set"
      ]
     },
     "execution_count": 48,
     "metadata": {},
     "output_type": "execute_result"
    }
   ],
   "source": [
    "sample = set({'apple', 'banana', 'orange'}) # dict과 달리 : 이 없음"
   ]
  },
  {
   "cell_type": "code",
   "execution_count": null,
   "id": "dbded6c1",
   "metadata": {},
   "outputs": [],
   "source": [
    "type(sample)"
   ]
  },
  {
   "cell_type": "code",
   "execution_count": 49,
   "id": "b845060e",
   "metadata": {
    "scrolled": true
   },
   "outputs": [
    {
     "data": {
      "text/plain": [
       "set"
      ]
     },
     "execution_count": 49,
     "metadata": {},
     "output_type": "execute_result"
    }
   ],
   "source": [
    "sample = {'apple', 'banana', 'orange'} "
   ]
  },
  {
   "cell_type": "code",
   "execution_count": null,
   "id": "e6e83a8e",
   "metadata": {},
   "outputs": [],
   "source": [
    "type(sample)"
   ]
  },
  {
   "cell_type": "markdown",
   "id": "f8f24f5f",
   "metadata": {},
   "source": [
    "## 리스트(list) : 가장 많이 사용하는 자료형 중 하나"
   ]
  },
  {
   "cell_type": "code",
   "execution_count": 99,
   "id": "ed9f7f20",
   "metadata": {},
   "outputs": [],
   "source": [
    "elements_list = ['H','He','Li','Be','B']"
   ]
  },
  {
   "cell_type": "markdown",
   "id": "91cf7cd0",
   "metadata": {},
   "source": [
    "#### 인덱싱 * 인덱스는 0부터 시작한다."
   ]
  },
  {
   "cell_type": "code",
   "execution_count": 58,
   "id": "76c2b774",
   "metadata": {},
   "outputs": [
    {
     "data": {
      "text/plain": [
       "'H'"
      ]
     },
     "execution_count": 58,
     "metadata": {},
     "output_type": "execute_result"
    }
   ],
   "source": [
    "elements_list[0] "
   ]
  },
  {
   "cell_type": "markdown",
   "id": "4a3ef59a",
   "metadata": {},
   "source": [
    "#### 슬라이싱"
   ]
  },
  {
   "cell_type": "code",
   "execution_count": 66,
   "id": "599ab5ba",
   "metadata": {},
   "outputs": [
    {
     "data": {
      "text/plain": [
       "['H', 'He', 'Li']"
      ]
     },
     "execution_count": 66,
     "metadata": {},
     "output_type": "execute_result"
    }
   ],
   "source": [
    "elements_list[0:3]"
   ]
  },
  {
   "cell_type": "code",
   "execution_count": 72,
   "id": "f19d82ea",
   "metadata": {},
   "outputs": [
    {
     "data": {
      "text/plain": [
       "['H', 'He', 'Li', 'Be']"
      ]
     },
     "execution_count": 72,
     "metadata": {},
     "output_type": "execute_result"
    }
   ],
   "source": [
    "elements_list[0:4]"
   ]
  },
  {
   "cell_type": "code",
   "execution_count": 67,
   "id": "4bde96bc",
   "metadata": {
    "scrolled": true
   },
   "outputs": [
    {
     "data": {
      "text/plain": [
       "['H', 'He', 'Li', 'Be']"
      ]
     },
     "execution_count": 67,
     "metadata": {},
     "output_type": "execute_result"
    }
   ],
   "source": [
    "elements_list[0:-1]"
   ]
  },
  {
   "cell_type": "code",
   "execution_count": 68,
   "id": "2765cc78",
   "metadata": {},
   "outputs": [
    {
     "data": {
      "text/plain": [
       "['H', 'He', 'Li', 'Be', 'B']"
      ]
     },
     "execution_count": 68,
     "metadata": {},
     "output_type": "execute_result"
    }
   ],
   "source": [
    "elements_list[0:]"
   ]
  },
  {
   "cell_type": "markdown",
   "id": "231ca835",
   "metadata": {},
   "source": [
    "#### 리스트 자료형이 제공하는 메소드"
   ]
  },
  {
   "cell_type": "code",
   "execution_count": 73,
   "id": "9a8014a7",
   "metadata": {},
   "outputs": [],
   "source": [
    "elements_list.remove('H')"
   ]
  },
  {
   "cell_type": "code",
   "execution_count": 74,
   "id": "ca9aca81",
   "metadata": {},
   "outputs": [
    {
     "data": {
      "text/plain": [
       "['He', 'Li', 'Be', 'B']"
      ]
     },
     "execution_count": 74,
     "metadata": {},
     "output_type": "execute_result"
    }
   ],
   "source": [
    "elements_list"
   ]
  },
  {
   "cell_type": "code",
   "execution_count": 75,
   "id": "7182a384",
   "metadata": {},
   "outputs": [],
   "source": [
    "elements_list.append('H') # 가장 많이 쓰임"
   ]
  },
  {
   "cell_type": "code",
   "execution_count": 76,
   "id": "2ec92725",
   "metadata": {
    "scrolled": true
   },
   "outputs": [
    {
     "data": {
      "text/plain": [
       "['He', 'Li', 'Be', 'B', 'H']"
      ]
     },
     "execution_count": 76,
     "metadata": {},
     "output_type": "execute_result"
    }
   ],
   "source": [
    "elements_list"
   ]
  },
  {
   "cell_type": "code",
   "execution_count": 95,
   "id": "4866611c",
   "metadata": {},
   "outputs": [
    {
     "ename": "TypeError",
     "evalue": "list.append() takes exactly one argument (3 given)",
     "output_type": "error",
     "traceback": [
      "\u001b[1;31m---------------------------------------------------------------------------\u001b[0m",
      "\u001b[1;31mTypeError\u001b[0m                                 Traceback (most recent call last)",
      "\u001b[1;32m~\\AppData\\Local\\Temp\\ipykernel_18712\\2639969376.py\u001b[0m in \u001b[0;36m<module>\u001b[1;34m\u001b[0m\n\u001b[1;32m----> 1\u001b[1;33m \u001b[0melements\u001b[0m\u001b[1;33m.\u001b[0m\u001b[0mappend\u001b[0m\u001b[1;33m(\u001b[0m\u001b[1;34m'C'\u001b[0m\u001b[1;33m,\u001b[0m\u001b[1;34m'N'\u001b[0m\u001b[1;33m,\u001b[0m\u001b[1;34m'O'\u001b[0m\u001b[1;33m)\u001b[0m\u001b[1;33m\u001b[0m\u001b[1;33m\u001b[0m\u001b[0m\n\u001b[0m",
      "\u001b[1;31mTypeError\u001b[0m: list.append() takes exactly one argument (3 given)"
     ]
    }
   ],
   "source": [
    "elements_list.append('C','N','O') # append는 하나씩만 넣을 수 있다"
   ]
  },
  {
   "cell_type": "code",
   "execution_count": 100,
   "id": "d51fd170",
   "metadata": {},
   "outputs": [],
   "source": [
    "elements_list.append('C')\n",
    "elements_list.append('N')\n",
    "elements_list.append('O')"
   ]
  },
  {
   "cell_type": "code",
   "execution_count": 101,
   "id": "bfc9caa6",
   "metadata": {},
   "outputs": [
    {
     "data": {
      "text/plain": [
       "['H', 'He', 'Li', 'Be', 'B', 'C', 'N', 'O']"
      ]
     },
     "execution_count": 101,
     "metadata": {},
     "output_type": "execute_result"
    }
   ],
   "source": [
    "elements_list"
   ]
  },
  {
   "cell_type": "code",
   "execution_count": 104,
   "id": "67b06d5b",
   "metadata": {},
   "outputs": [],
   "source": [
    "elements_list= ['H', 'He', 'Li', 'Be', 'B']"
   ]
  },
  {
   "cell_type": "code",
   "execution_count": 105,
   "id": "1cbc935c",
   "metadata": {},
   "outputs": [],
   "source": [
    "elements_list.extend(['C','N','O']) # 리스트 병합하는 개념"
   ]
  },
  {
   "cell_type": "code",
   "execution_count": 106,
   "id": "494d6840",
   "metadata": {
    "scrolled": true
   },
   "outputs": [
    {
     "data": {
      "text/plain": [
       "['H', 'He', 'Li', 'Be', 'B', 'C', 'N', 'O']"
      ]
     },
     "execution_count": 106,
     "metadata": {},
     "output_type": "execute_result"
    }
   ],
   "source": [
    "elements_list"
   ]
  },
  {
   "cell_type": "code",
   "execution_count": 107,
   "id": "ec9a41bb",
   "metadata": {},
   "outputs": [],
   "source": [
    "elements_list.append(['C','N','O'])  # append와 차이"
   ]
  },
  {
   "cell_type": "code",
   "execution_count": 108,
   "id": "7e972f95",
   "metadata": {},
   "outputs": [
    {
     "data": {
      "text/plain": [
       "['H', 'He', 'Li', 'Be', 'B', 'C', 'N', 'O', ['C', 'N', 'O']]"
      ]
     },
     "execution_count": 108,
     "metadata": {},
     "output_type": "execute_result"
    }
   ],
   "source": [
    "elements_list"
   ]
  },
  {
   "cell_type": "code",
   "execution_count": 91,
   "id": "6937069d",
   "metadata": {
    "scrolled": true
   },
   "outputs": [
    {
     "data": {
      "text/plain": [
       "5"
      ]
     },
     "execution_count": 91,
     "metadata": {},
     "output_type": "execute_result"
    }
   ],
   "source": [
    "len(elements_list # 엄밀하게는 len()은 파이썬의 기본함수"
   ]
  },
  {
   "cell_type": "markdown",
   "id": "80a487dc",
   "metadata": {},
   "source": [
    "##### 더 다양한 메소드 :  https://data-make.tistory.com/102 참고"
   ]
  },
  {
   "cell_type": "markdown",
   "id": "79181dfb",
   "metadata": {},
   "source": [
    "## 문자열(str) : 파이썬은 문자열을 다루기가 쉽다"
   ]
  },
  {
   "cell_type": "code",
   "execution_count": 212,
   "id": "510eeb15",
   "metadata": {},
   "outputs": [],
   "source": [
    "text = 'CCOc1ccc(CNC(=O)c2cc(-c3sc(C)nc3C)n[nH]2)cc1OCC'"
   ]
  },
  {
   "cell_type": "markdown",
   "id": "a3ba0dd1",
   "metadata": {},
   "source": [
    "#### 인덱싱"
   ]
  },
  {
   "cell_type": "code",
   "execution_count": 213,
   "id": "9f8123c7",
   "metadata": {},
   "outputs": [
    {
     "data": {
      "text/plain": [
       "'C'"
      ]
     },
     "execution_count": 213,
     "metadata": {},
     "output_type": "execute_result"
    }
   ],
   "source": [
    "text[0]"
   ]
  },
  {
   "cell_type": "markdown",
   "id": "72826e0a",
   "metadata": {},
   "source": [
    "#### 슬라이싱"
   ]
  },
  {
   "cell_type": "code",
   "execution_count": 214,
   "id": "e819d778",
   "metadata": {},
   "outputs": [
    {
     "data": {
      "text/plain": [
       "'CCOc1c'"
      ]
     },
     "execution_count": 214,
     "metadata": {},
     "output_type": "execute_result"
    }
   ],
   "source": [
    "text[0:6]"
   ]
  },
  {
   "cell_type": "markdown",
   "id": "f19918ab",
   "metadata": {},
   "source": [
    "#### 문자열의 메소드"
   ]
  },
  {
   "cell_type": "code",
   "execution_count": 215,
   "id": "9149e92e",
   "metadata": {
    "scrolled": true
   },
   "outputs": [
    {
     "data": {
      "text/plain": [
       "['CCOc1ccc', 'CNC', '=O)c2cc', '-c3sc', 'C)nc3C)n[nH]2)cc1OCC']"
      ]
     },
     "execution_count": 215,
     "metadata": {},
     "output_type": "execute_result"
    }
   ],
   "source": [
    "text.split('(') # 리스트의 append, remove, extend 메소드와 달리 바로 반영되지 않는다."
   ]
  },
  {
   "cell_type": "code",
   "execution_count": 216,
   "id": "15144c41",
   "metadata": {},
   "outputs": [
    {
     "data": {
      "text/plain": [
       "'CCOc1ccc(CNC(=O)c2cc(-c3sc(C)nc3C)n[nH]2)cc1OCC'"
      ]
     },
     "execution_count": 216,
     "metadata": {},
     "output_type": "execute_result"
    }
   ],
   "source": [
    "text"
   ]
  },
  {
   "cell_type": "code",
   "execution_count": 217,
   "id": "81f36839",
   "metadata": {},
   "outputs": [],
   "source": [
    "text_to_list = text.split('(') "
   ]
  },
  {
   "cell_type": "code",
   "execution_count": 218,
   "id": "385b7f1b",
   "metadata": {
    "scrolled": true
   },
   "outputs": [
    {
     "data": {
      "text/plain": [
       "['CCOc1ccc', 'CNC', '=O)c2cc', '-c3sc', 'C)nc3C)n[nH]2)cc1OCC']"
      ]
     },
     "execution_count": 218,
     "metadata": {},
     "output_type": "execute_result"
    }
   ],
   "source": [
    "text_to_list"
   ]
  },
  {
   "cell_type": "code",
   "execution_count": 219,
   "id": "a3e27a37",
   "metadata": {},
   "outputs": [
    {
     "data": {
      "text/plain": [
       "'AAOc1ccc(ANA(=O)c2cc(-c3sc(A)nc3A)n[nH]2)cc1OAA'"
      ]
     },
     "execution_count": 219,
     "metadata": {},
     "output_type": "execute_result"
    }
   ],
   "source": [
    "text.replace('C','A')  # 리스트의 append, remove, extend 메소드와 달리 바로 반영되지 않는다."
   ]
  },
  {
   "cell_type": "code",
   "execution_count": 220,
   "id": "70fc2dc3",
   "metadata": {},
   "outputs": [
    {
     "data": {
      "text/plain": [
       "'CCOc1ccc(CNC(=O)c2cc(-c3sc(C)nc3C)n[nH]2)cc1OCC'"
      ]
     },
     "execution_count": 220,
     "metadata": {},
     "output_type": "execute_result"
    }
   ],
   "source": [
    "text"
   ]
  },
  {
   "cell_type": "code",
   "execution_count": 222,
   "id": "903fcd36",
   "metadata": {},
   "outputs": [],
   "source": [
    "text = text.replace('C','A') "
   ]
  },
  {
   "cell_type": "code",
   "execution_count": 226,
   "id": "9462b4d7",
   "metadata": {
    "scrolled": true
   },
   "outputs": [
    {
     "data": {
      "text/plain": [
       "'AAOc1ccc(ANA(=O)c2cc(-c3sc(A)nc3A)n[nH]2)cc1OAA'"
      ]
     },
     "execution_count": 226,
     "metadata": {},
     "output_type": "execute_result"
    }
   ],
   "source": [
    "text"
   ]
  },
  {
   "cell_type": "code",
   "execution_count": 223,
   "id": "23d0ad1d",
   "metadata": {
    "scrolled": true
   },
   "outputs": [
    {
     "data": {
      "text/plain": [
       "0"
      ]
     },
     "execution_count": 223,
     "metadata": {},
     "output_type": "execute_result"
    }
   ],
   "source": [
    "text.count('C')"
   ]
  },
  {
   "cell_type": "code",
   "execution_count": 225,
   "id": "c0892a7f",
   "metadata": {},
   "outputs": [
    {
     "data": {
      "text/plain": [
       "8"
      ]
     },
     "execution_count": 225,
     "metadata": {},
     "output_type": "execute_result"
    }
   ],
   "source": [
    "text.count('A')"
   ]
  },
  {
   "cell_type": "code",
   "execution_count": 224,
   "id": "b0e304f0",
   "metadata": {},
   "outputs": [
    {
     "data": {
      "text/plain": [
       "47"
      ]
     },
     "execution_count": 224,
     "metadata": {},
     "output_type": "execute_result"
    }
   ],
   "source": [
    "len(text) # 공백까지 카운트"
   ]
  },
  {
   "cell_type": "markdown",
   "id": "37965941",
   "metadata": {},
   "source": [
    "##### 심화 : 정규표현식을 활용하면 패턴에 맞는 문자열을 찾아 다룰 수 있다\n",
    "##### 더 다양한 메소드 : https://blockdmask.tistory.com/459"
   ]
  },
  {
   "cell_type": "markdown",
   "id": "594d5b93",
   "metadata": {},
   "source": [
    "## 딕셔너리(dict) : 파이썬의 독특한 자료형"
   ]
  },
  {
   "cell_type": "code",
   "execution_count": 191,
   "id": "502d2836",
   "metadata": {},
   "outputs": [],
   "source": [
    "elements_dict = dict({'H':'수소','He':'헬륨','Li':'리튬','Be':'베릴륨'})"
   ]
  },
  {
   "cell_type": "markdown",
   "id": "93a1a0e6",
   "metadata": {},
   "source": [
    "#### 인덱싱"
   ]
  },
  {
   "cell_type": "code",
   "execution_count": 192,
   "id": "203f87ce",
   "metadata": {},
   "outputs": [
    {
     "data": {
      "text/plain": [
       "'수소'"
      ]
     },
     "execution_count": 192,
     "metadata": {},
     "output_type": "execute_result"
    }
   ],
   "source": [
    "elements_dict['H']"
   ]
  },
  {
   "cell_type": "markdown",
   "id": "6868cf4f",
   "metadata": {},
   "source": [
    "#### 딕서녀리의 메소드"
   ]
  },
  {
   "cell_type": "code",
   "execution_count": 193,
   "id": "2e9f3198",
   "metadata": {},
   "outputs": [
    {
     "data": {
      "text/plain": [
       "dict_keys(['H', 'He', 'Li', 'Be'])"
      ]
     },
     "execution_count": 193,
     "metadata": {},
     "output_type": "execute_result"
    }
   ],
   "source": [
    "elements_dict.keys() # key값 반환"
   ]
  },
  {
   "cell_type": "code",
   "execution_count": 194,
   "id": "09189c20",
   "metadata": {},
   "outputs": [],
   "source": [
    "elements_list = list(elements_dict.keys()) # 리스트로 변환 가능"
   ]
  },
  {
   "cell_type": "code",
   "execution_count": 195,
   "id": "e931395d",
   "metadata": {},
   "outputs": [
    {
     "data": {
      "text/plain": [
       "['H', 'He', 'Li', 'Be']"
      ]
     },
     "execution_count": 195,
     "metadata": {},
     "output_type": "execute_result"
    }
   ],
   "source": [
    "elements_list"
   ]
  },
  {
   "cell_type": "code",
   "execution_count": 196,
   "id": "4ecdddfe",
   "metadata": {},
   "outputs": [
    {
     "data": {
      "text/plain": [
       "dict_values(['수소', '헬륨', '리튬', '베릴륨'])"
      ]
     },
     "execution_count": 196,
     "metadata": {},
     "output_type": "execute_result"
    }
   ],
   "source": [
    "elements_dict.values()"
   ]
  },
  {
   "cell_type": "code",
   "execution_count": 197,
   "id": "f1e8ce08",
   "metadata": {},
   "outputs": [
    {
     "data": {
      "text/plain": [
       "dict_items([('H', '수소'), ('He', '헬륨'), ('Li', '리튬'), ('Be', '베릴륨')])"
      ]
     },
     "execution_count": 197,
     "metadata": {},
     "output_type": "execute_result"
    }
   ],
   "source": [
    "elements_dict.items()"
   ]
  },
  {
   "cell_type": "code",
   "execution_count": 198,
   "id": "85f1a58d",
   "metadata": {},
   "outputs": [],
   "source": [
    "elements_dict['B'] = '붕소'"
   ]
  },
  {
   "cell_type": "code",
   "execution_count": 199,
   "id": "824ee8fb",
   "metadata": {},
   "outputs": [
    {
     "data": {
      "text/plain": [
       "{'H': '수소', 'He': '헬륨', 'Li': '리튬', 'Be': '베릴륨', 'B': '붕소'}"
      ]
     },
     "execution_count": 199,
     "metadata": {},
     "output_type": "execute_result"
    }
   ],
   "source": [
    "elements_dict"
   ]
  },
  {
   "cell_type": "code",
   "execution_count": 200,
   "id": "b1290f5c",
   "metadata": {},
   "outputs": [],
   "source": [
    "del elements_dict['B']"
   ]
  },
  {
   "cell_type": "code",
   "execution_count": 201,
   "id": "3e3752c6",
   "metadata": {},
   "outputs": [
    {
     "data": {
      "text/plain": [
       "{'H': '수소', 'He': '헬륨', 'Li': '리튬', 'Be': '베릴륨'}"
      ]
     },
     "execution_count": 201,
     "metadata": {},
     "output_type": "execute_result"
    }
   ],
   "source": [
    "elements_dict"
   ]
  },
  {
   "cell_type": "markdown",
   "id": "0759bd4e",
   "metadata": {},
   "source": [
    "## 셋(set) : 수학의 집합 개념과 동일"
   ]
  },
  {
   "cell_type": "code",
   "execution_count": 208,
   "id": "7ce46d09",
   "metadata": {},
   "outputs": [],
   "source": [
    "set1 = set({1,2,2,3})"
   ]
  },
  {
   "cell_type": "code",
   "execution_count": 209,
   "id": "a6b1a859",
   "metadata": {},
   "outputs": [
    {
     "data": {
      "text/plain": [
       "{1, 2, 3}"
      ]
     },
     "execution_count": 209,
     "metadata": {},
     "output_type": "execute_result"
    }
   ],
   "source": [
    "set1"
   ]
  },
  {
   "cell_type": "code",
   "execution_count": 204,
   "id": "f023c117",
   "metadata": {},
   "outputs": [],
   "source": [
    "set2 = set({2,4,6})"
   ]
  },
  {
   "cell_type": "code",
   "execution_count": 210,
   "id": "2191ecd8",
   "metadata": {},
   "outputs": [
    {
     "data": {
      "text/plain": [
       "{2, 4, 6}"
      ]
     },
     "execution_count": 210,
     "metadata": {},
     "output_type": "execute_result"
    }
   ],
   "source": [
    "set2"
   ]
  },
  {
   "cell_type": "code",
   "execution_count": 205,
   "id": "cfc88543",
   "metadata": {},
   "outputs": [
    {
     "data": {
      "text/plain": [
       "{2}"
      ]
     },
     "execution_count": 205,
     "metadata": {},
     "output_type": "execute_result"
    }
   ],
   "source": [
    "set1 & set2"
   ]
  },
  {
   "cell_type": "code",
   "execution_count": 206,
   "id": "5dd2d52d",
   "metadata": {},
   "outputs": [
    {
     "data": {
      "text/plain": [
       "{1, 2, 3, 4, 6}"
      ]
     },
     "execution_count": 206,
     "metadata": {},
     "output_type": "execute_result"
    }
   ],
   "source": [
    "set1 | set2"
   ]
  },
  {
   "cell_type": "code",
   "execution_count": 207,
   "id": "db0a7f0e",
   "metadata": {},
   "outputs": [
    {
     "data": {
      "text/plain": [
       "{1, 3}"
      ]
     },
     "execution_count": 207,
     "metadata": {},
     "output_type": "execute_result"
    }
   ],
   "source": [
    "set1 - set2"
   ]
  }
 ],
 "metadata": {
  "kernelspec": {
   "display_name": "Python 3 (ipykernel)",
   "language": "python",
   "name": "python3"
  },
  "language_info": {
   "codemirror_mode": {
    "name": "ipython",
    "version": 3
   },
   "file_extension": ".py",
   "mimetype": "text/x-python",
   "name": "python",
   "nbconvert_exporter": "python",
   "pygments_lexer": "ipython3",
   "version": "3.9.13"
  }
 },
 "nbformat": 4,
 "nbformat_minor": 5
}
