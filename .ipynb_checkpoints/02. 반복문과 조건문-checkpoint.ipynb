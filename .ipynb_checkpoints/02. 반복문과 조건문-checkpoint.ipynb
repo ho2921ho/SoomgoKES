{
 "cells": [
  {
   "cell_type": "markdown",
   "id": "51452b96",
   "metadata": {},
   "source": [
    "## For문(반복문) : 순차적으로 명령을 반복할 때 쓰는 문법"
   ]
  },
  {
   "cell_type": "code",
   "execution_count": 2,
   "id": "31b9d628",
   "metadata": {},
   "outputs": [],
   "source": [
    "elements_list= ['H', 'He', 'Li', 'Be', 'B']"
   ]
  },
  {
   "cell_type": "code",
   "execution_count": 4,
   "id": "df8ef9f7",
   "metadata": {
    "scrolled": true
   },
   "outputs": [
    {
     "name": "stdout",
     "output_type": "stream",
     "text": [
      "H 1\n",
      "He 2\n",
      "Li 2\n",
      "Be 2\n",
      "B 1\n"
     ]
    }
   ],
   "source": [
    "for element in elements_list:\n",
    "    print(element,len(element))"
   ]
  },
  {
   "cell_type": "code",
   "execution_count": 6,
   "id": "a11aaf28",
   "metadata": {
    "scrolled": true
   },
   "outputs": [
    {
     "name": "stdout",
     "output_type": "stream",
     "text": [
      "0 H\n",
      "1 He\n",
      "2 Li\n",
      "3 Be\n",
      "4 B\n"
     ]
    }
   ],
   "source": [
    "for index, element in enumerate(elements_list):\n",
    "    print(index, element)"
   ]
  },
  {
   "cell_type": "code",
   "execution_count": 9,
   "id": "40cca477",
   "metadata": {},
   "outputs": [],
   "source": [
    "elements_dict = dict({'H':'수소','He':'헬륨','Li':'리튬','Be':'베릴륨','B':'붕소'})"
   ]
  },
  {
   "cell_type": "code",
   "execution_count": 10,
   "id": "7c4b2069",
   "metadata": {},
   "outputs": [],
   "source": [
    "elements_list_kr = []\n",
    "\n",
    "for element in elements_list:\n",
    "    element_kr = elements_dict[element]\n",
    "    elements_list_kr.append(element_kr)"
   ]
  },
  {
   "cell_type": "code",
   "execution_count": 11,
   "id": "038d3dd2",
   "metadata": {
    "scrolled": true
   },
   "outputs": [
    {
     "data": {
      "text/plain": [
       "['수소', '헬륨', '리튬', '베릴륨', '붕소']"
      ]
     },
     "execution_count": 11,
     "metadata": {},
     "output_type": "execute_result"
    }
   ],
   "source": [
    "elements_list_kr"
   ]
  },
  {
   "cell_type": "code",
   "execution_count": 5,
   "id": "0645e674",
   "metadata": {},
   "outputs": [
    {
     "name": "stdout",
     "output_type": "stream",
     "text": [
      "0\n",
      "1\n",
      "2\n",
      "3\n"
     ]
    }
   ],
   "source": [
    "for i in range(0,4):\n",
    "    print(i)"
   ]
  },
  {
   "cell_type": "code",
   "execution_count": 6,
   "id": "4547503d",
   "metadata": {},
   "outputs": [
    {
     "name": "stdout",
     "output_type": "stream",
     "text": [
      "0\n",
      "2\n"
     ]
    }
   ],
   "source": [
    "for i in range(0,4,2):\n",
    "    print(i)"
   ]
  },
  {
   "cell_type": "markdown",
   "id": "8518e59b",
   "metadata": {},
   "source": [
    "##### 반복문을 제어하는 부가적인 문법으로 break, continue 등이 있음."
   ]
  },
  {
   "cell_type": "markdown",
   "id": "1249e6ed",
   "metadata": {},
   "source": [
    "## While문(반복문) : 조건에 도달할 때 까지 무한히 명령을 반복할 때 쓰는 문법"
   ]
  },
  {
   "cell_type": "code",
   "execution_count": 2,
   "id": "9507fb11",
   "metadata": {},
   "outputs": [
    {
     "name": "stdout",
     "output_type": "stream",
     "text": [
      "1\n",
      "2\n",
      "3\n",
      "4\n",
      "5\n",
      "6\n",
      "7\n",
      "8\n",
      "9\n",
      "10\n"
     ]
    }
   ],
   "source": [
    "num = 1\n",
    "while num <= 10:\n",
    "    print(num)\n",
    "    num = num + 1"
   ]
  },
  {
   "cell_type": "markdown",
   "id": "2c630fd5",
   "metadata": {},
   "source": [
    "## If문(조건문) : 조건에 따라 명령을 나누는 문법"
   ]
  },
  {
   "cell_type": "markdown",
   "id": "bf77a8f7",
   "metadata": {},
   "source": [
    "### 불린연산자"
   ]
  },
  {
   "cell_type": "code",
   "execution_count": 14,
   "id": "4a303a57",
   "metadata": {},
   "outputs": [
    {
     "data": {
      "text/plain": [
       "False"
      ]
     },
     "execution_count": 14,
     "metadata": {},
     "output_type": "execute_result"
    }
   ],
   "source": [
    "1 > 2"
   ]
  },
  {
   "cell_type": "code",
   "execution_count": 15,
   "id": "f1a7e73c",
   "metadata": {},
   "outputs": [
    {
     "data": {
      "text/plain": [
       "True"
      ]
     },
     "execution_count": 15,
     "metadata": {},
     "output_type": "execute_result"
    }
   ],
   "source": [
    "1 < 2"
   ]
  },
  {
   "cell_type": "code",
   "execution_count": 17,
   "id": "9f6c7a82",
   "metadata": {},
   "outputs": [
    {
     "data": {
      "text/plain": [
       "True"
      ]
     },
     "execution_count": 17,
     "metadata": {},
     "output_type": "execute_result"
    }
   ],
   "source": [
    "1 == 1 # = 는 할당을 위한 기호"
   ]
  },
  {
   "cell_type": "code",
   "execution_count": 39,
   "id": "b7fdfea1",
   "metadata": {},
   "outputs": [
    {
     "data": {
      "text/plain": [
       "False"
      ]
     },
     "execution_count": 39,
     "metadata": {},
     "output_type": "execute_result"
    }
   ],
   "source": [
    "1 == 2"
   ]
  },
  {
   "cell_type": "code",
   "execution_count": 40,
   "id": "8f712002",
   "metadata": {},
   "outputs": [
    {
     "data": {
      "text/plain": [
       "False"
      ]
     },
     "execution_count": 40,
     "metadata": {},
     "output_type": "execute_result"
    }
   ],
   "source": [
    "1 != 1"
   ]
  },
  {
   "cell_type": "code",
   "execution_count": 20,
   "id": "d4629afc",
   "metadata": {
    "scrolled": false
   },
   "outputs": [
    {
     "data": {
      "text/plain": [
       "True"
      ]
     },
     "execution_count": 20,
     "metadata": {},
     "output_type": "execute_result"
    }
   ],
   "source": [
    "1 != 2"
   ]
  },
  {
   "cell_type": "code",
   "execution_count": 24,
   "id": "ad9ab18c",
   "metadata": {},
   "outputs": [
    {
     "data": {
      "text/plain": [
       "True"
      ]
     },
     "execution_count": 24,
     "metadata": {},
     "output_type": "execute_result"
    }
   ],
   "source": [
    "1 > 2 or 1 == 1 # (F or T) # 둘 중 하나라도 True 시 True 반환"
   ]
  },
  {
   "cell_type": "code",
   "execution_count": 25,
   "id": "f07c0231",
   "metadata": {},
   "outputs": [
    {
     "data": {
      "text/plain": [
       "False"
      ]
     },
     "execution_count": 25,
     "metadata": {},
     "output_type": "execute_result"
    }
   ],
   "source": [
    "1 > 2 and 1 == 1 # (F and T) # 둘다 True 시 True 반환"
   ]
  },
  {
   "cell_type": "code",
   "execution_count": 28,
   "id": "4ffd4809",
   "metadata": {
    "scrolled": true
   },
   "outputs": [
    {
     "data": {
      "text/plain": [
       "True"
      ]
     },
     "execution_count": 28,
     "metadata": {},
     "output_type": "execute_result"
    }
   ],
   "source": [
    "1 < 2 and 1 == 1 # (T and T)"
   ]
  },
  {
   "cell_type": "code",
   "execution_count": 29,
   "id": "87492373",
   "metadata": {},
   "outputs": [
    {
     "data": {
      "text/plain": [
       "True"
      ]
     },
     "execution_count": 29,
     "metadata": {},
     "output_type": "execute_result"
    }
   ],
   "source": [
    "'H' in elements_list"
   ]
  },
  {
   "cell_type": "code",
   "execution_count": 30,
   "id": "e85651c1",
   "metadata": {},
   "outputs": [
    {
     "data": {
      "text/plain": [
       "False"
      ]
     },
     "execution_count": 30,
     "metadata": {},
     "output_type": "execute_result"
    }
   ],
   "source": [
    "'H' not in elements_list"
   ]
  },
  {
   "cell_type": "code",
   "execution_count": 31,
   "id": "a434bfe4",
   "metadata": {
    "scrolled": true
   },
   "outputs": [
    {
     "data": {
      "text/plain": [
       "False"
      ]
     },
     "execution_count": 31,
     "metadata": {},
     "output_type": "execute_result"
    }
   ],
   "source": [
    "'C' in elements_list"
   ]
  },
  {
   "cell_type": "code",
   "execution_count": 32,
   "id": "a0ec25a6",
   "metadata": {
    "scrolled": true
   },
   "outputs": [
    {
     "data": {
      "text/plain": [
       "True"
      ]
     },
     "execution_count": 32,
     "metadata": {},
     "output_type": "execute_result"
    }
   ],
   "source": [
    "'C' not in elements_list"
   ]
  },
  {
   "cell_type": "markdown",
   "id": "b2eb29ce",
   "metadata": {},
   "source": [
    "### 조건문 문법"
   ]
  },
  {
   "cell_type": "code",
   "execution_count": 37,
   "id": "61d053d9",
   "metadata": {},
   "outputs": [
    {
     "name": "stdout",
     "output_type": "stream",
     "text": [
      "H is in the list\n"
     ]
    }
   ],
   "source": [
    "element = 'H'\n",
    "\n",
    "if element  in elements_list:\n",
    "    print(element,'is in the list')\n",
    "\n",
    "else element not in elements_list:\n",
    "    print(element,'is not in the list')\n",
    "    "
   ]
  },
  {
   "cell_type": "code",
   "execution_count": 38,
   "id": "43f5da72",
   "metadata": {
    "scrolled": true
   },
   "outputs": [
    {
     "name": "stdout",
     "output_type": "stream",
     "text": [
      "C is not in the list\n"
     ]
    }
   ],
   "source": [
    "element = 'C'\n",
    "\n",
    "if element  in elements_list:\n",
    "    print(element,'is in the list')\n",
    "\n",
    "else element not in elements_list:\n",
    "    print(element,'is not in the list')"
   ]
  },
  {
   "cell_type": "code",
   "execution_count": 42,
   "id": "f27eb793",
   "metadata": {},
   "outputs": [
    {
     "name": "stdout",
     "output_type": "stream",
     "text": [
      "c is equal to d\n"
     ]
    }
   ],
   "source": [
    "c = 15 * 5\n",
    "d = 15 + 15 + 15 + 15 + 15\n",
    "\n",
    "if c > d:\n",
    "     print('c is greater than d')\n",
    "elif c == d:\n",
    "     print('c is equal to d')\n",
    "elif c < d:\n",
    "     print('c is less than d')\n",
    "else:\n",
    "     print('I don\\'t know')"
   ]
  },
  {
   "cell_type": "markdown",
   "id": "cd9d41c9",
   "metadata": {},
   "source": [
    "## For문 + If문"
   ]
  },
  {
   "cell_type": "code",
   "execution_count": 46,
   "id": "2314874a",
   "metadata": {},
   "outputs": [
    {
     "name": "stdout",
     "output_type": "stream",
     "text": [
      "H includes alphabet H\n",
      "He includes alphabet H\n",
      "Li includes alphabet etc..\n",
      "Be includes alphabet B\n",
      "B includes alphabet B\n"
     ]
    }
   ],
   "source": [
    "for element in elements_list:\n",
    "    \n",
    "    if 'H' in element:\n",
    "        print(element, 'includes alphabet H')\n",
    "    \n",
    "    elif 'B' in element:\n",
    "        print(element, 'includes alphabet B')\n",
    "    \n",
    "    else:\n",
    "        print(element, 'includes alphabet etc..')"
   ]
  }
 ],
 "metadata": {
  "kernelspec": {
   "display_name": "Python 3 (ipykernel)",
   "language": "python",
   "name": "python3"
  },
  "language_info": {
   "codemirror_mode": {
    "name": "ipython",
    "version": 3
   },
   "file_extension": ".py",
   "mimetype": "text/x-python",
   "name": "python",
   "nbconvert_exporter": "python",
   "pygments_lexer": "ipython3",
   "version": "3.9.13"
  }
 },
 "nbformat": 4,
 "nbformat_minor": 5
}
