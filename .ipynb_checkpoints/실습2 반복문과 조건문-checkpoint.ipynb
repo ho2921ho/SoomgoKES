{
 "cells": [
  {
   "cell_type": "markdown",
   "id": "497e7482",
   "metadata": {},
   "source": [
    "## 문제 1\n",
    "#### 다음 코드를 for문으로 작성하라."
   ]
  },
  {
   "cell_type": "code",
   "execution_count": 2,
   "id": "ac7544fe",
   "metadata": {
    "scrolled": true
   },
   "outputs": [
    {
     "name": "stdout",
     "output_type": "stream",
     "text": [
      "10\n",
      "20\n",
      "30\n"
     ]
    }
   ],
   "source": [
    "x = 10\n",
    "print(x)\n",
    "x = 20\n",
    "print(x)\n",
    "x = 30\n",
    "print(x)"
   ]
  },
  {
   "cell_type": "markdown",
   "id": "c270a8e0",
   "metadata": {},
   "source": [
    "#### 답안작성"
   ]
  },
  {
   "cell_type": "code",
   "execution_count": null,
   "id": "7b4d72d6",
   "metadata": {},
   "outputs": [],
   "source": []
  },
  {
   "cell_type": "markdown",
   "id": "46c4c103",
   "metadata": {},
   "source": [
    "## 문제 2\n",
    "#### for 문을 사용해서 리스트에 저장된 값을 다음과 같이 출력하라"
   ]
  },
  {
   "cell_type": "code",
   "execution_count": 4,
   "id": "51d6438e",
   "metadata": {},
   "outputs": [],
   "source": [
    "my_list = [\"김밥\", \"라면\", \"튀김\"]"
   ]
  },
  {
   "cell_type": "code",
   "execution_count": 6,
   "id": "887d820c",
   "metadata": {
    "scrolled": true
   },
   "outputs": [
    {
     "data": {
      "text/plain": [
       "'\\n오늘의 메뉴: 김밥\\n오늘의 메뉴: 라면\\n오늘의 메뉴: 튀김\\n'"
      ]
     },
     "execution_count": 6,
     "metadata": {},
     "output_type": "execute_result"
    }
   ],
   "source": [
    "'''\n",
    "오늘의 메뉴: 김밥\n",
    "오늘의 메뉴: 라면\n",
    "오늘의 메뉴: 튀김\n",
    "'''"
   ]
  },
  {
   "cell_type": "markdown",
   "id": "58a6d7fb",
   "metadata": {},
   "source": [
    "#### 답안작성"
   ]
  },
  {
   "cell_type": "code",
   "execution_count": null,
   "id": "00213555",
   "metadata": {},
   "outputs": [],
   "source": []
  },
  {
   "cell_type": "markdown",
   "id": "c1325cc5",
   "metadata": {},
   "source": [
    "## 문제 3\n",
    "#### 리스트에 동물 이름 저장돼 있다. for문을 사용해서 동물 이름의 첫 글자만 출력하라."
   ]
  },
  {
   "cell_type": "code",
   "execution_count": 12,
   "id": "129634d3",
   "metadata": {},
   "outputs": [],
   "source": [
    "my_list = ['dog', 'cat', 'parrot']"
   ]
  },
  {
   "cell_type": "code",
   "execution_count": 11,
   "id": "4b09ac6c",
   "metadata": {},
   "outputs": [
    {
     "data": {
      "text/plain": [
       "'\\nd\\nc\\np\\n'"
      ]
     },
     "execution_count": 11,
     "metadata": {},
     "output_type": "execute_result"
    }
   ],
   "source": [
    "'''\n",
    "d\n",
    "c\n",
    "p\n",
    "'''"
   ]
  },
  {
   "cell_type": "markdown",
   "id": "a99b5386",
   "metadata": {},
   "source": [
    "#### 답안작성"
   ]
  },
  {
   "cell_type": "code",
   "execution_count": null,
   "id": "d727a662",
   "metadata": {},
   "outputs": [],
   "source": []
  },
  {
   "cell_type": "markdown",
   "id": "e97df1e9",
   "metadata": {},
   "source": [
    "## 문제 4\n",
    "#### 리스트에서 20 보다 작은 3의 배수를 출력하라"
   ]
  },
  {
   "cell_type": "code",
   "execution_count": 17,
   "id": "91fbd563",
   "metadata": {},
   "outputs": [],
   "source": [
    "my_list = [13, 21, 12, 14, 30, 18]"
   ]
  },
  {
   "cell_type": "code",
   "execution_count": 16,
   "id": "f9c7affe",
   "metadata": {},
   "outputs": [
    {
     "data": {
      "text/plain": [
       "'\\n12\\n18\\n'"
      ]
     },
     "execution_count": 16,
     "metadata": {},
     "output_type": "execute_result"
    }
   ],
   "source": [
    "'''\n",
    "12\n",
    "18\n",
    "'''"
   ]
  },
  {
   "cell_type": "markdown",
   "id": "4b636f06",
   "metadata": {},
   "source": [
    "#### 답안작성"
   ]
  },
  {
   "cell_type": "code",
   "execution_count": null,
   "id": "9fae009f",
   "metadata": {},
   "outputs": [],
   "source": []
  },
  {
   "cell_type": "markdown",
   "id": "16eadb63",
   "metadata": {},
   "source": [
    "## 문제 5\n",
    "#### 아래와 같이 리스트의 데이터를 출력하라. 단, for문과 range문을 사용하라"
   ]
  },
  {
   "cell_type": "code",
   "execution_count": null,
   "id": "df98d52f",
   "metadata": {},
   "outputs": [],
   "source": [
    "price_list = [32100, 32150, 32000, 32500]"
   ]
  },
  {
   "cell_type": "code",
   "execution_count": null,
   "id": "39e0fba7",
   "metadata": {},
   "outputs": [],
   "source": [
    "'''\n",
    "0 32100\n",
    "1 32150\n",
    "2 32000\n",
    "3 32500\n",
    "'''"
   ]
  },
  {
   "cell_type": "markdown",
   "id": "2b464af2",
   "metadata": {},
   "source": [
    "#### 답안작성"
   ]
  },
  {
   "cell_type": "markdown",
   "id": "6c7de56d",
   "metadata": {},
   "source": [
    "## 문제 6\n",
    "#### 리스트에 저장된 데이터를 아래와 같이 출력하라."
   ]
  },
  {
   "cell_type": "code",
   "execution_count": 21,
   "id": "d9c3b927",
   "metadata": {},
   "outputs": [],
   "source": [
    "apart = [ [101, 102], [201, 202], [301, 302] ] # hint : 반복문 안에 또 반복문을 사용할 수 있다."
   ]
  },
  {
   "cell_type": "code",
   "execution_count": null,
   "id": "8d7b72d4",
   "metadata": {},
   "outputs": [],
   "source": [
    "'''\n",
    "302 호\n",
    "301 호\n",
    "202 호\n",
    "201 호\n",
    "102 호\n",
    "101 호\n",
    "'''"
   ]
  },
  {
   "cell_type": "markdown",
   "id": "f4aeaf29",
   "metadata": {},
   "source": [
    "#### 답안작성"
   ]
  },
  {
   "cell_type": "code",
   "execution_count": null,
   "id": "f37bd292",
   "metadata": {},
   "outputs": [],
   "source": []
  }
 ],
 "metadata": {
  "kernelspec": {
   "display_name": "Python 3 (ipykernel)",
   "language": "python",
   "name": "python3"
  },
  "language_info": {
   "codemirror_mode": {
    "name": "ipython",
    "version": 3
   },
   "file_extension": ".py",
   "mimetype": "text/x-python",
   "name": "python",
   "nbconvert_exporter": "python",
   "pygments_lexer": "ipython3",
   "version": "3.9.13"
  }
 },
 "nbformat": 4,
 "nbformat_minor": 5
}
